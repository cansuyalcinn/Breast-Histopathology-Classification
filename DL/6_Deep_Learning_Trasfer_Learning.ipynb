{
  "nbformat": 4,
  "nbformat_minor": 0,
  "metadata": {
    "colab": {
      "name": "6.Deep_Learning_Trasfer_Learning.ipynb",
      "provenance": [],
      "collapsed_sections": [
        "Cm7fUbb_QicH",
        "q7RPCajzZlxn",
        "yEpgd3-EpetA",
        "sKvUtbNw58wO",
        "knp7r_-e_U8f",
        "anHj4RH9LldN",
        "SMch08HuhEpO",
        "RGjp4XH604z5"
      ],
      "machine_shape": "hm"
    },
    "kernelspec": {
      "name": "python3",
      "display_name": "Python 3"
    },
    "language_info": {
      "name": "python"
    },
    "widgets": {
      "application/vnd.jupyter.widget-state+json": {
        "cbc7587f55ae479ca27bceca4d9c23a3": {
          "model_module": "@jupyter-widgets/controls",
          "model_name": "HBoxModel",
          "model_module_version": "1.5.0",
          "state": {
            "_dom_classes": [],
            "_model_module": "@jupyter-widgets/controls",
            "_model_module_version": "1.5.0",
            "_model_name": "HBoxModel",
            "_view_count": null,
            "_view_module": "@jupyter-widgets/controls",
            "_view_module_version": "1.5.0",
            "_view_name": "HBoxView",
            "box_style": "",
            "children": [
              "IPY_MODEL_eead7c1624bd430d9d79d0ca8c202a93",
              "IPY_MODEL_578283c9da0143719c00cd01fa9b0362",
              "IPY_MODEL_1322f21737834523a392fa10ba53b26b"
            ],
            "layout": "IPY_MODEL_d6a6beaabef74b56886f0986edcddc60"
          }
        },
        "eead7c1624bd430d9d79d0ca8c202a93": {
          "model_module": "@jupyter-widgets/controls",
          "model_name": "HTMLModel",
          "model_module_version": "1.5.0",
          "state": {
            "_dom_classes": [],
            "_model_module": "@jupyter-widgets/controls",
            "_model_module_version": "1.5.0",
            "_model_name": "HTMLModel",
            "_view_count": null,
            "_view_module": "@jupyter-widgets/controls",
            "_view_module_version": "1.5.0",
            "_view_name": "HTMLView",
            "description": "",
            "description_tooltip": null,
            "layout": "IPY_MODEL_73a8c7cb11e04c03836098a19edcf7c5",
            "placeholder": "​",
            "style": "IPY_MODEL_94b77b0420fa44f1b4823bc8f34f7d92",
            "value": "100%"
          }
        },
        "578283c9da0143719c00cd01fa9b0362": {
          "model_module": "@jupyter-widgets/controls",
          "model_name": "FloatProgressModel",
          "model_module_version": "1.5.0",
          "state": {
            "_dom_classes": [],
            "_model_module": "@jupyter-widgets/controls",
            "_model_module_version": "1.5.0",
            "_model_name": "FloatProgressModel",
            "_view_count": null,
            "_view_module": "@jupyter-widgets/controls",
            "_view_module_version": "1.5.0",
            "_view_name": "ProgressView",
            "bar_style": "success",
            "description": "",
            "description_tooltip": null,
            "layout": "IPY_MODEL_46b1937607094f22b158c0c9dd35599e",
            "max": 553433881,
            "min": 0,
            "orientation": "horizontal",
            "style": "IPY_MODEL_c82afaab871948b597b1c39a512b5ba2",
            "value": 553433881
          }
        },
        "1322f21737834523a392fa10ba53b26b": {
          "model_module": "@jupyter-widgets/controls",
          "model_name": "HTMLModel",
          "model_module_version": "1.5.0",
          "state": {
            "_dom_classes": [],
            "_model_module": "@jupyter-widgets/controls",
            "_model_module_version": "1.5.0",
            "_model_name": "HTMLModel",
            "_view_count": null,
            "_view_module": "@jupyter-widgets/controls",
            "_view_module_version": "1.5.0",
            "_view_name": "HTMLView",
            "description": "",
            "description_tooltip": null,
            "layout": "IPY_MODEL_afc2e37d57d841d6bc611db037c44dfd",
            "placeholder": "​",
            "style": "IPY_MODEL_17b92ce51b1a47779361ecb25cd355d0",
            "value": " 528M/528M [00:03&lt;00:00, 129MB/s]"
          }
        },
        "d6a6beaabef74b56886f0986edcddc60": {
          "model_module": "@jupyter-widgets/base",
          "model_name": "LayoutModel",
          "model_module_version": "1.2.0",
          "state": {
            "_model_module": "@jupyter-widgets/base",
            "_model_module_version": "1.2.0",
            "_model_name": "LayoutModel",
            "_view_count": null,
            "_view_module": "@jupyter-widgets/base",
            "_view_module_version": "1.2.0",
            "_view_name": "LayoutView",
            "align_content": null,
            "align_items": null,
            "align_self": null,
            "border": null,
            "bottom": null,
            "display": null,
            "flex": null,
            "flex_flow": null,
            "grid_area": null,
            "grid_auto_columns": null,
            "grid_auto_flow": null,
            "grid_auto_rows": null,
            "grid_column": null,
            "grid_gap": null,
            "grid_row": null,
            "grid_template_areas": null,
            "grid_template_columns": null,
            "grid_template_rows": null,
            "height": null,
            "justify_content": null,
            "justify_items": null,
            "left": null,
            "margin": null,
            "max_height": null,
            "max_width": null,
            "min_height": null,
            "min_width": null,
            "object_fit": null,
            "object_position": null,
            "order": null,
            "overflow": null,
            "overflow_x": null,
            "overflow_y": null,
            "padding": null,
            "right": null,
            "top": null,
            "visibility": null,
            "width": null
          }
        },
        "73a8c7cb11e04c03836098a19edcf7c5": {
          "model_module": "@jupyter-widgets/base",
          "model_name": "LayoutModel",
          "model_module_version": "1.2.0",
          "state": {
            "_model_module": "@jupyter-widgets/base",
            "_model_module_version": "1.2.0",
            "_model_name": "LayoutModel",
            "_view_count": null,
            "_view_module": "@jupyter-widgets/base",
            "_view_module_version": "1.2.0",
            "_view_name": "LayoutView",
            "align_content": null,
            "align_items": null,
            "align_self": null,
            "border": null,
            "bottom": null,
            "display": null,
            "flex": null,
            "flex_flow": null,
            "grid_area": null,
            "grid_auto_columns": null,
            "grid_auto_flow": null,
            "grid_auto_rows": null,
            "grid_column": null,
            "grid_gap": null,
            "grid_row": null,
            "grid_template_areas": null,
            "grid_template_columns": null,
            "grid_template_rows": null,
            "height": null,
            "justify_content": null,
            "justify_items": null,
            "left": null,
            "margin": null,
            "max_height": null,
            "max_width": null,
            "min_height": null,
            "min_width": null,
            "object_fit": null,
            "object_position": null,
            "order": null,
            "overflow": null,
            "overflow_x": null,
            "overflow_y": null,
            "padding": null,
            "right": null,
            "top": null,
            "visibility": null,
            "width": null
          }
        },
        "94b77b0420fa44f1b4823bc8f34f7d92": {
          "model_module": "@jupyter-widgets/controls",
          "model_name": "DescriptionStyleModel",
          "model_module_version": "1.5.0",
          "state": {
            "_model_module": "@jupyter-widgets/controls",
            "_model_module_version": "1.5.0",
            "_model_name": "DescriptionStyleModel",
            "_view_count": null,
            "_view_module": "@jupyter-widgets/base",
            "_view_module_version": "1.2.0",
            "_view_name": "StyleView",
            "description_width": ""
          }
        },
        "46b1937607094f22b158c0c9dd35599e": {
          "model_module": "@jupyter-widgets/base",
          "model_name": "LayoutModel",
          "model_module_version": "1.2.0",
          "state": {
            "_model_module": "@jupyter-widgets/base",
            "_model_module_version": "1.2.0",
            "_model_name": "LayoutModel",
            "_view_count": null,
            "_view_module": "@jupyter-widgets/base",
            "_view_module_version": "1.2.0",
            "_view_name": "LayoutView",
            "align_content": null,
            "align_items": null,
            "align_self": null,
            "border": null,
            "bottom": null,
            "display": null,
            "flex": null,
            "flex_flow": null,
            "grid_area": null,
            "grid_auto_columns": null,
            "grid_auto_flow": null,
            "grid_auto_rows": null,
            "grid_column": null,
            "grid_gap": null,
            "grid_row": null,
            "grid_template_areas": null,
            "grid_template_columns": null,
            "grid_template_rows": null,
            "height": null,
            "justify_content": null,
            "justify_items": null,
            "left": null,
            "margin": null,
            "max_height": null,
            "max_width": null,
            "min_height": null,
            "min_width": null,
            "object_fit": null,
            "object_position": null,
            "order": null,
            "overflow": null,
            "overflow_x": null,
            "overflow_y": null,
            "padding": null,
            "right": null,
            "top": null,
            "visibility": null,
            "width": null
          }
        },
        "c82afaab871948b597b1c39a512b5ba2": {
          "model_module": "@jupyter-widgets/controls",
          "model_name": "ProgressStyleModel",
          "model_module_version": "1.5.0",
          "state": {
            "_model_module": "@jupyter-widgets/controls",
            "_model_module_version": "1.5.0",
            "_model_name": "ProgressStyleModel",
            "_view_count": null,
            "_view_module": "@jupyter-widgets/base",
            "_view_module_version": "1.2.0",
            "_view_name": "StyleView",
            "bar_color": null,
            "description_width": ""
          }
        },
        "afc2e37d57d841d6bc611db037c44dfd": {
          "model_module": "@jupyter-widgets/base",
          "model_name": "LayoutModel",
          "model_module_version": "1.2.0",
          "state": {
            "_model_module": "@jupyter-widgets/base",
            "_model_module_version": "1.2.0",
            "_model_name": "LayoutModel",
            "_view_count": null,
            "_view_module": "@jupyter-widgets/base",
            "_view_module_version": "1.2.0",
            "_view_name": "LayoutView",
            "align_content": null,
            "align_items": null,
            "align_self": null,
            "border": null,
            "bottom": null,
            "display": null,
            "flex": null,
            "flex_flow": null,
            "grid_area": null,
            "grid_auto_columns": null,
            "grid_auto_flow": null,
            "grid_auto_rows": null,
            "grid_column": null,
            "grid_gap": null,
            "grid_row": null,
            "grid_template_areas": null,
            "grid_template_columns": null,
            "grid_template_rows": null,
            "height": null,
            "justify_content": null,
            "justify_items": null,
            "left": null,
            "margin": null,
            "max_height": null,
            "max_width": null,
            "min_height": null,
            "min_width": null,
            "object_fit": null,
            "object_position": null,
            "order": null,
            "overflow": null,
            "overflow_x": null,
            "overflow_y": null,
            "padding": null,
            "right": null,
            "top": null,
            "visibility": null,
            "width": null
          }
        },
        "17b92ce51b1a47779361ecb25cd355d0": {
          "model_module": "@jupyter-widgets/controls",
          "model_name": "DescriptionStyleModel",
          "model_module_version": "1.5.0",
          "state": {
            "_model_module": "@jupyter-widgets/controls",
            "_model_module_version": "1.5.0",
            "_model_name": "DescriptionStyleModel",
            "_view_count": null,
            "_view_module": "@jupyter-widgets/base",
            "_view_module_version": "1.2.0",
            "_view_name": "StyleView",
            "description_width": ""
          }
        },
        "52285a599783491f91ce85da13a2ff9a": {
          "model_module": "@jupyter-widgets/controls",
          "model_name": "HBoxModel",
          "model_module_version": "1.5.0",
          "state": {
            "_dom_classes": [],
            "_model_module": "@jupyter-widgets/controls",
            "_model_module_version": "1.5.0",
            "_model_name": "HBoxModel",
            "_view_count": null,
            "_view_module": "@jupyter-widgets/controls",
            "_view_module_version": "1.5.0",
            "_view_name": "HBoxView",
            "box_style": "",
            "children": [
              "IPY_MODEL_445aadfbe20649d1bfb0c74afd00c172",
              "IPY_MODEL_2a69a9c238f6496096255b233a6b54e0",
              "IPY_MODEL_51c4616ebfa648f883cbfa0fafebc006"
            ],
            "layout": "IPY_MODEL_b30484f0b9ce4cdc9e10560385f4b443"
          }
        },
        "445aadfbe20649d1bfb0c74afd00c172": {
          "model_module": "@jupyter-widgets/controls",
          "model_name": "HTMLModel",
          "model_module_version": "1.5.0",
          "state": {
            "_dom_classes": [],
            "_model_module": "@jupyter-widgets/controls",
            "_model_module_version": "1.5.0",
            "_model_name": "HTMLModel",
            "_view_count": null,
            "_view_module": "@jupyter-widgets/controls",
            "_view_module_version": "1.5.0",
            "_view_name": "HTMLView",
            "description": "",
            "description_tooltip": null,
            "layout": "IPY_MODEL_6173ed4ecbe6488b8ffe33bc87c6b6aa",
            "placeholder": "​",
            "style": "IPY_MODEL_4e526950b2bd4494b6800c3b92200885",
            "value": "100%"
          }
        },
        "2a69a9c238f6496096255b233a6b54e0": {
          "model_module": "@jupyter-widgets/controls",
          "model_name": "FloatProgressModel",
          "model_module_version": "1.5.0",
          "state": {
            "_dom_classes": [],
            "_model_module": "@jupyter-widgets/controls",
            "_model_module_version": "1.5.0",
            "_model_name": "FloatProgressModel",
            "_view_count": null,
            "_view_module": "@jupyter-widgets/controls",
            "_view_module_version": "1.5.0",
            "_view_name": "ProgressView",
            "bar_style": "success",
            "description": "",
            "description_tooltip": null,
            "layout": "IPY_MODEL_506c29769e554b2491f793803c74d04d",
            "max": 46830571,
            "min": 0,
            "orientation": "horizontal",
            "style": "IPY_MODEL_127ac853477b47ecb800cc27f4304bc6",
            "value": 46830571
          }
        },
        "51c4616ebfa648f883cbfa0fafebc006": {
          "model_module": "@jupyter-widgets/controls",
          "model_name": "HTMLModel",
          "model_module_version": "1.5.0",
          "state": {
            "_dom_classes": [],
            "_model_module": "@jupyter-widgets/controls",
            "_model_module_version": "1.5.0",
            "_model_name": "HTMLModel",
            "_view_count": null,
            "_view_module": "@jupyter-widgets/controls",
            "_view_module_version": "1.5.0",
            "_view_name": "HTMLView",
            "description": "",
            "description_tooltip": null,
            "layout": "IPY_MODEL_8a5a27f5020a4d7183898f841ec2bbd1",
            "placeholder": "​",
            "style": "IPY_MODEL_2ddf6c9ebbe64283abb427b449d90999",
            "value": " 44.7M/44.7M [00:00&lt;00:00, 149MB/s]"
          }
        },
        "b30484f0b9ce4cdc9e10560385f4b443": {
          "model_module": "@jupyter-widgets/base",
          "model_name": "LayoutModel",
          "model_module_version": "1.2.0",
          "state": {
            "_model_module": "@jupyter-widgets/base",
            "_model_module_version": "1.2.0",
            "_model_name": "LayoutModel",
            "_view_count": null,
            "_view_module": "@jupyter-widgets/base",
            "_view_module_version": "1.2.0",
            "_view_name": "LayoutView",
            "align_content": null,
            "align_items": null,
            "align_self": null,
            "border": null,
            "bottom": null,
            "display": null,
            "flex": null,
            "flex_flow": null,
            "grid_area": null,
            "grid_auto_columns": null,
            "grid_auto_flow": null,
            "grid_auto_rows": null,
            "grid_column": null,
            "grid_gap": null,
            "grid_row": null,
            "grid_template_areas": null,
            "grid_template_columns": null,
            "grid_template_rows": null,
            "height": null,
            "justify_content": null,
            "justify_items": null,
            "left": null,
            "margin": null,
            "max_height": null,
            "max_width": null,
            "min_height": null,
            "min_width": null,
            "object_fit": null,
            "object_position": null,
            "order": null,
            "overflow": null,
            "overflow_x": null,
            "overflow_y": null,
            "padding": null,
            "right": null,
            "top": null,
            "visibility": null,
            "width": null
          }
        },
        "6173ed4ecbe6488b8ffe33bc87c6b6aa": {
          "model_module": "@jupyter-widgets/base",
          "model_name": "LayoutModel",
          "model_module_version": "1.2.0",
          "state": {
            "_model_module": "@jupyter-widgets/base",
            "_model_module_version": "1.2.0",
            "_model_name": "LayoutModel",
            "_view_count": null,
            "_view_module": "@jupyter-widgets/base",
            "_view_module_version": "1.2.0",
            "_view_name": "LayoutView",
            "align_content": null,
            "align_items": null,
            "align_self": null,
            "border": null,
            "bottom": null,
            "display": null,
            "flex": null,
            "flex_flow": null,
            "grid_area": null,
            "grid_auto_columns": null,
            "grid_auto_flow": null,
            "grid_auto_rows": null,
            "grid_column": null,
            "grid_gap": null,
            "grid_row": null,
            "grid_template_areas": null,
            "grid_template_columns": null,
            "grid_template_rows": null,
            "height": null,
            "justify_content": null,
            "justify_items": null,
            "left": null,
            "margin": null,
            "max_height": null,
            "max_width": null,
            "min_height": null,
            "min_width": null,
            "object_fit": null,
            "object_position": null,
            "order": null,
            "overflow": null,
            "overflow_x": null,
            "overflow_y": null,
            "padding": null,
            "right": null,
            "top": null,
            "visibility": null,
            "width": null
          }
        },
        "4e526950b2bd4494b6800c3b92200885": {
          "model_module": "@jupyter-widgets/controls",
          "model_name": "DescriptionStyleModel",
          "model_module_version": "1.5.0",
          "state": {
            "_model_module": "@jupyter-widgets/controls",
            "_model_module_version": "1.5.0",
            "_model_name": "DescriptionStyleModel",
            "_view_count": null,
            "_view_module": "@jupyter-widgets/base",
            "_view_module_version": "1.2.0",
            "_view_name": "StyleView",
            "description_width": ""
          }
        },
        "506c29769e554b2491f793803c74d04d": {
          "model_module": "@jupyter-widgets/base",
          "model_name": "LayoutModel",
          "model_module_version": "1.2.0",
          "state": {
            "_model_module": "@jupyter-widgets/base",
            "_model_module_version": "1.2.0",
            "_model_name": "LayoutModel",
            "_view_count": null,
            "_view_module": "@jupyter-widgets/base",
            "_view_module_version": "1.2.0",
            "_view_name": "LayoutView",
            "align_content": null,
            "align_items": null,
            "align_self": null,
            "border": null,
            "bottom": null,
            "display": null,
            "flex": null,
            "flex_flow": null,
            "grid_area": null,
            "grid_auto_columns": null,
            "grid_auto_flow": null,
            "grid_auto_rows": null,
            "grid_column": null,
            "grid_gap": null,
            "grid_row": null,
            "grid_template_areas": null,
            "grid_template_columns": null,
            "grid_template_rows": null,
            "height": null,
            "justify_content": null,
            "justify_items": null,
            "left": null,
            "margin": null,
            "max_height": null,
            "max_width": null,
            "min_height": null,
            "min_width": null,
            "object_fit": null,
            "object_position": null,
            "order": null,
            "overflow": null,
            "overflow_x": null,
            "overflow_y": null,
            "padding": null,
            "right": null,
            "top": null,
            "visibility": null,
            "width": null
          }
        },
        "127ac853477b47ecb800cc27f4304bc6": {
          "model_module": "@jupyter-widgets/controls",
          "model_name": "ProgressStyleModel",
          "model_module_version": "1.5.0",
          "state": {
            "_model_module": "@jupyter-widgets/controls",
            "_model_module_version": "1.5.0",
            "_model_name": "ProgressStyleModel",
            "_view_count": null,
            "_view_module": "@jupyter-widgets/base",
            "_view_module_version": "1.2.0",
            "_view_name": "StyleView",
            "bar_color": null,
            "description_width": ""
          }
        },
        "8a5a27f5020a4d7183898f841ec2bbd1": {
          "model_module": "@jupyter-widgets/base",
          "model_name": "LayoutModel",
          "model_module_version": "1.2.0",
          "state": {
            "_model_module": "@jupyter-widgets/base",
            "_model_module_version": "1.2.0",
            "_model_name": "LayoutModel",
            "_view_count": null,
            "_view_module": "@jupyter-widgets/base",
            "_view_module_version": "1.2.0",
            "_view_name": "LayoutView",
            "align_content": null,
            "align_items": null,
            "align_self": null,
            "border": null,
            "bottom": null,
            "display": null,
            "flex": null,
            "flex_flow": null,
            "grid_area": null,
            "grid_auto_columns": null,
            "grid_auto_flow": null,
            "grid_auto_rows": null,
            "grid_column": null,
            "grid_gap": null,
            "grid_row": null,
            "grid_template_areas": null,
            "grid_template_columns": null,
            "grid_template_rows": null,
            "height": null,
            "justify_content": null,
            "justify_items": null,
            "left": null,
            "margin": null,
            "max_height": null,
            "max_width": null,
            "min_height": null,
            "min_width": null,
            "object_fit": null,
            "object_position": null,
            "order": null,
            "overflow": null,
            "overflow_x": null,
            "overflow_y": null,
            "padding": null,
            "right": null,
            "top": null,
            "visibility": null,
            "width": null
          }
        },
        "2ddf6c9ebbe64283abb427b449d90999": {
          "model_module": "@jupyter-widgets/controls",
          "model_name": "DescriptionStyleModel",
          "model_module_version": "1.5.0",
          "state": {
            "_model_module": "@jupyter-widgets/controls",
            "_model_module_version": "1.5.0",
            "_model_name": "DescriptionStyleModel",
            "_view_count": null,
            "_view_module": "@jupyter-widgets/base",
            "_view_module_version": "1.2.0",
            "_view_name": "StyleView",
            "description_width": ""
          }
        }
      }
    },
    "gpuClass": "standard",
    "accelerator": "GPU"
  },
  "cells": [
    {
      "cell_type": "markdown",
      "source": [
        "This notebook contains the applications of Binary Classification using Transfer learning and Ensemble Learning with weighted voting. In the first part, all models are trained seperatedly. In the seconds part using test sets predictions were made and ensemble model is created. "
      ],
      "metadata": {
        "id": "uZVTEMp3XGxU"
      }
    },
    {
      "cell_type": "markdown",
      "source": [
        "# Binary Classification using Transfer Learning"
      ],
      "metadata": {
        "id": "Cm7fUbb_QicH"
      }
    },
    {
      "cell_type": "markdown",
      "source": [
        "## Libraries"
      ],
      "metadata": {
        "id": "q7RPCajzZlxn"
      }
    },
    {
      "cell_type": "code",
      "source": [
        "from google.colab import drive\n",
        "drive.mount('/content/drive')"
      ],
      "metadata": {
        "colab": {
          "base_uri": "https://localhost:8080/"
        },
        "id": "togpbdTyH40V",
        "outputId": "b8f0631c-71ea-430a-ea28-28d8d1652108"
      },
      "execution_count": null,
      "outputs": [
        {
          "output_type": "stream",
          "name": "stdout",
          "text": [
            "Mounted at /content/drive\n"
          ]
        }
      ]
    },
    {
      "cell_type": "code",
      "execution_count": null,
      "metadata": {
        "id": "RZKy0VTWil0a"
      },
      "outputs": [],
      "source": [
        "from __future__ import print_function, division\n",
        "import sklearn\n",
        "import glob \n",
        "import torch\n",
        "import pickle\n",
        "from PIL import Image\n",
        "import torch.nn as nn\n",
        "import torch.optim as optim\n",
        "import matplotlib.pyplot as plt\n",
        "from torch.optim import lr_scheduler\n",
        "import torch.backends.cudnn as cudnn\n",
        "from torch.utils.data import WeightedRandomSampler\n",
        "import numpy as np\n",
        "import torchvision\n",
        "from torchvision import datasets, models, transforms\n",
        "import matplotlib.pyplot as plt\n",
        "import time\n",
        "import os\n",
        "import copy\n",
        "from torchsummary import summary\n",
        "from torch.utils.tensorboard import SummaryWriter\n",
        "from collections import Counter\n",
        "from sklearn.utils import class_weight\n",
        "from tqdm import tqdm\n",
        "\n",
        "cudnn.benchmark = True\n",
        "plt.ion()   \n",
        "torch.cuda.empty_cache()"
      ]
    },
    {
      "cell_type": "code",
      "source": [
        "cd drive/MyDrive/Ars_machinae_autodiscentis/Inceptum/Deep_Learning"
      ],
      "metadata": {
        "id": "D27cjlpra4wp",
        "colab": {
          "base_uri": "https://localhost:8080/"
        },
        "outputId": "47578fda-8cd7-4ca2-dcec-84b4fbd0da9b"
      },
      "execution_count": null,
      "outputs": [
        {
          "output_type": "stream",
          "name": "stdout",
          "text": [
            "/content/drive/.shortcut-targets-by-id/17nJclndF8GuAZRXKNYnj1vT31d1lGUTN/Inceptum/Deep_Learning\n"
          ]
        }
      ]
    },
    {
      "cell_type": "markdown",
      "source": [
        "## Resnet18"
      ],
      "metadata": {
        "id": "yEpgd3-EpetA"
      }
    },
    {
      "cell_type": "code",
      "source": [
        "'''\n",
        "This part of the code is modified based on need of running each magnification or magnification independent approach. \n",
        "If magnification independent will be run -> data_dir should be in data_all, otherwise data_dir should be the magnification folder 40x,100x,200x or 400x.\n",
        "'''\n",
        "# mag = '400x'\n",
        "# data_dir = f'{mag}}/'\n",
        "\n",
        "data_dir = f'data_all/' # Magnification independent approach.\n",
        "\n",
        "data_transforms = {\n",
        "    'train': transforms.Compose([\n",
        "        transforms.RandomResizedCrop(256),\n",
        "        transforms.RandomHorizontalFlip(),\n",
        "        transforms.RandomVerticalFlip(),\n",
        "        transforms.RandomAdjustSharpness(sharpness_factor=2),\n",
        "        transforms.ToTensor(),\n",
        "        transforms.Normalize([0.485, 0.456, 0.406], [0.229, 0.224, 0.225])\n",
        "    ]),\n",
        "    'val': transforms.Compose([\n",
        "        transforms.ToTensor(),\n",
        "        transforms.Normalize([0.485, 0.456, 0.406], [0.229, 0.224, 0.225])\n",
        "    ]),\n",
        "}\n",
        "\n",
        "image_datasets = {x: datasets.ImageFolder(os.path.join(data_dir, x),\n",
        "                                          data_transforms[x])\n",
        "                  for x in ['train', 'val']}\n",
        "dataloaders = {x: torch.utils.data.DataLoader(image_datasets[x], batch_size=40,\n",
        "                                             shuffle=True, num_workers=4)\n",
        "              for x in ['train', 'val']}\n",
        "dataset_sizes = {x: len(image_datasets[x]) for x in ['train', 'val']}\n",
        "class_names = image_datasets['train'].classes\n",
        "\n",
        "device = torch.device(\"cuda:0\" if torch.cuda.is_available() else \"cpu\")"
      ],
      "metadata": {
        "id": "TloU3L_2G5Mr",
        "colab": {
          "base_uri": "https://localhost:8080/"
        },
        "outputId": "0d35420e-cca5-4c07-8e89-da78c40172fc"
      },
      "execution_count": null,
      "outputs": [
        {
          "output_type": "stream",
          "name": "stderr",
          "text": [
            "/usr/local/lib/python3.7/dist-packages/torch/utils/data/dataloader.py:490: UserWarning: This DataLoader will create 4 worker processes in total. Our suggested max number of worker in current system is 2, which is smaller than what this DataLoader is going to create. Please be aware that excessive worker creation might get DataLoader running slow or even freeze, lower the worker number to avoid potential slowness/freeze if necessary.\n",
            "  cpuset_checked))\n"
          ]
        }
      ]
    },
    {
      "cell_type": "code",
      "source": [
        "# Checking the class weights.\n",
        "train_y = image_datasets['train'].targets\n",
        "val_y = image_datasets['val'].targets\n",
        "print(\"Train set label distribution\", Counter(train_y))\n",
        "print(\"Val set label distribution\", Counter(val_y))\n",
        "class_weights_train = class_weight.compute_class_weight(class_weight = 'balanced', classes = np.unique(train_y), y = train_y)                                                    \n",
        "class_weights_train = torch.tensor(class_weights_train ,dtype=torch.float).cuda()\n",
        "print(class_weights_train)\n",
        "class_weights_val = class_weight.compute_class_weight(class_weight = 'balanced', classes = np.unique(val_y), y = val_y)                                                    \n",
        "class_weights_val = torch.tensor(class_weights_val ,dtype=torch.float).cuda()\n",
        "print(class_weights_val)"
      ],
      "metadata": {
        "colab": {
          "base_uri": "https://localhost:8080/"
        },
        "id": "TCp8NjqFlw4s",
        "outputId": "ec0e6ea6-1ccf-4e1c-f47a-9e0b72529f9e"
      },
      "execution_count": null,
      "outputs": [
        {
          "output_type": "stream",
          "name": "stdout",
          "text": [
            "Train set label distribution Counter({1: 2829, 0: 1077})\n",
            "Val set label distribution Counter({1: 704, 0: 394})\n",
            "tensor([1.8134, 0.6903], device='cuda:0')\n",
            "tensor([1.3934, 0.7798], device='cuda:0')\n"
          ]
        }
      ]
    },
    {
      "cell_type": "code",
      "source": [
        "# Accuracy and loss plots to be drawn in the training loop. \n",
        "\n",
        "'''\n",
        "def draw_plot_loss(loss_train, loss_val, mag=mag):\n",
        "# Draws training and validation loss curves in magnification dependent model.\n",
        "    plt.figure(figsize=(10,5))\n",
        "    plt.title(\"Training and Validation Loss\")\n",
        "    plt.plot(loss_val,label=\"val\")\n",
        "    plt.plot(loss_train,label=\"train\")\n",
        "    plt.xlabel(\"iterations\")\n",
        "    plt.ylabel(\"Loss\")\n",
        "    plt.legend()\n",
        "    plt.savefig(f'lossGraphs/model_resnet/{mag}/{mag}_losses.png')\n",
        "    plt.show()\n",
        "\n",
        "def draw_plot_acc(acc_train, acc_val, mag=mag):\n",
        "# Draws training and validation accuracy curves in magnification dependent model. \n",
        "\n",
        "    plt.figure(figsize=(10,5))\n",
        "    plt.title(\"Training and Validation Accuracy\")\n",
        "    plt.plot(acc_val,label=\"val\")\n",
        "    plt.plot(acc_train,label=\"train\")\n",
        "    plt.xlabel(\"iterations\")\n",
        "    plt.ylabel(\"Accuracy\")\n",
        "    plt.legend()\n",
        "    plt.savefig(f'lossGraphs/model_resnet/{mag}/{mag}_acc.png')\n",
        "    plt.show()\n",
        "''' \n",
        "\n",
        "def draw_plot_loss_for_all(loss_train, loss_val): \n",
        "# Draws training and validation loss curves in magnification independent model. \n",
        "\n",
        "    plt.figure(figsize=(10,5))\n",
        "    plt.title(\"Training and Validation Loss\")\n",
        "    plt.plot(loss_val,label=\"val\")\n",
        "    plt.plot(loss_train,label=\"train\")\n",
        "    plt.xlabel(\"iterations\")\n",
        "    plt.ylabel(\"Loss\")\n",
        "    plt.legend()\n",
        "    plt.savefig(f'lossGraphs/model_resnet/data_all/all_losses.png')\n",
        "    plt.show()\n",
        "\n",
        "def draw_plot_acc_for_all(acc_train, acc_val):\n",
        "# Draws training and validation accuracy curves in magnification independent model. \n",
        "    plt.figure(figsize=(10,5))\n",
        "    plt.title(\"Training and Validation Accuracy\")\n",
        "    plt.plot(acc_val,label=\"val\")\n",
        "    plt.plot(acc_train,label=\"train\")\n",
        "    plt.xlabel(\"iterations\")\n",
        "    plt.ylabel(\"Accuracy\")\n",
        "    plt.legend()\n",
        "    plt.savefig(f'lossGraphs/model_resnet/data_all/all_acc.png')\n",
        "    plt.show()"
      ],
      "metadata": {
        "id": "ijsq6Hf579X5"
      },
      "execution_count": null,
      "outputs": []
    },
    {
      "cell_type": "code",
      "source": [
        "def train_model(model, criterion, optimizer, scheduler, num_epochs=20):\n",
        "  \n",
        "    since = time.time()\n",
        "    best_model_wts = copy.deepcopy(model.state_dict())\n",
        "    best_acc = 0.0\n",
        "\n",
        "    val_losses = []\n",
        "    train_losses = []\n",
        "    train_acc=[]\n",
        "    val_acc=[]\n",
        "\n",
        "    last_loss = 100\n",
        "    patience = 3\n",
        "    triggertimes = 0\n",
        "\n",
        "    for epoch in range(num_epochs):\n",
        "        print('Epoch {}/{}'.format(epoch+1, num_epochs))\n",
        "        print('-' * 10)\n",
        "\n",
        "        # Each epoch has a training and validation phase\n",
        "        for phase in ['train', 'val']:\n",
        "            if phase == 'train':\n",
        "                scheduler.step()\n",
        "                model.train()  # Set model to training mode\n",
        "            else:\n",
        "                model.eval()   # Set model to evaluate mode\n",
        "\n",
        "            running_loss = 0.0\n",
        "            running_corrects = 0\n",
        "\n",
        "            # Iterate over data.\n",
        "            for inputs, labels in dataloaders[phase]:\n",
        "                inputs = inputs.to(device)\n",
        "                labels = labels.to(device)\n",
        "\n",
        "                # zero the parameter gradients\n",
        "                optimizer.zero_grad()\n",
        "\n",
        "                # forward\n",
        "                # track history if only in train\n",
        "                with torch.set_grad_enabled(phase == 'train'):\n",
        "                    outputs = model(inputs)\n",
        "                    _, preds = torch.max(outputs, 1)\n",
        "                    loss = criterion(outputs, labels)\n",
        "\n",
        "                    # backward + optimize only if in training phase\n",
        "                    if phase == 'train':\n",
        "                        loss.backward()\n",
        "                        optimizer.step()\n",
        "\n",
        "                # statistics\n",
        "                running_loss += loss.item() * inputs.size(0)\n",
        "                running_corrects += torch.sum(preds == labels.data)\n",
        "\n",
        "            epoch_loss = running_loss / dataset_sizes[phase]\n",
        "            epoch_acc = running_corrects.double() / dataset_sizes[phase]\n",
        "\n",
        "            if phase == 'train':\n",
        "              train_losses.append(epoch_loss)\n",
        "              train_acc.append(epoch_acc.item())\n",
        "            if phase == 'val':\n",
        "              val_losses.append(epoch_loss)\n",
        "              val_acc.append(epoch_acc.item())\n",
        "\n",
        "            print('{} Loss: {:.4f} Acc: {:.4f}'.format(\n",
        "                phase, epoch_loss, epoch_acc))\n",
        "\n",
        "            # deep copy the model\n",
        "            if phase == 'val' and epoch_acc > best_acc:\n",
        "                best_acc = epoch_acc\n",
        "                best_model_wts = copy.deepcopy(model.state_dict())\n",
        "\n",
        "        if epoch_loss > last_loss:\n",
        "            trigger_times += 1\n",
        "            print('Trigger Times:', trigger_times)\n",
        "\n",
        "            if trigger_times >= patience:\n",
        "                print('Early stopping!\\nStart to test process.')\n",
        "                time_elapsed = time.time() - since\n",
        "                print('Training complete in {:.0f}m {:.0f}s'.format(\n",
        "                    time_elapsed // 60, time_elapsed % 60))\n",
        "                print('Best val Acc: {:4f}'.format(best_acc))\n",
        "\n",
        "                #draw_plot_loss(train_losses, val_losses)\n",
        "                #draw_plot_acc(train_acc, val_acc)\n",
        "                draw_plot_loss_for_all(train_losses, val_losses)\n",
        "                draw_plot_acc_for_all(train_acc, val_acc)\n",
        "\n",
        "                # load best model weights\n",
        "                model.load_state_dict(best_model_wts)\n",
        "                return model\n",
        "\n",
        "        else:\n",
        "            print('trigger times: 0')\n",
        "            trigger_times = 0\n",
        "\n",
        "        last_loss = epoch_loss\n",
        "                    \n",
        "\n",
        "    time_elapsed = time.time() - since\n",
        "    print('Training complete in {:.0f}m {:.0f}s'.format(\n",
        "        time_elapsed // 60, time_elapsed % 60))\n",
        "    print('Best val Acc: {:4f}'.format(best_acc))\n",
        "\n",
        "    draw_plot_loss(train_losses, val_losses)\n",
        "    draw_plot_acc(train_acc, val_acc)\n",
        "\n",
        "    # load best model weights\n",
        "    model.load_state_dict(best_model_wts)\n",
        "    return model"
      ],
      "metadata": {
        "id": "ti1bRJPwKhic"
      },
      "execution_count": null,
      "outputs": []
    },
    {
      "cell_type": "code",
      "source": [
        "model_resnet = models.resnet18(pretrained=True)\n",
        "num_ftrs = model_resnet.fc.in_features\n",
        "model_resnet.fc = nn.Linear(num_ftrs, 2) #single layer feed forward network\n",
        "\n",
        "model_dense = model_resnet.to(device)\n",
        "\n",
        "criterion = nn.CrossEntropyLoss(weight=torch.tensor(class_weights_train))\n",
        "\n",
        "# Observe that all parameters are being optimized\n",
        "optimizer_ft = optim.SGD(model_resnet.parameters(), lr=0.0005, momentum=0.9)\n",
        "\n",
        "# Decay LR by a factor of 0.1 every 7 epochs\n",
        "exp_lr_scheduler = lr_scheduler.StepLR(optimizer_ft, step_size=7, gamma=0.1)"
      ],
      "metadata": {
        "id": "6_uMtIVSrOJp",
        "colab": {
          "base_uri": "https://localhost:8080/",
          "height": 121,
          "referenced_widgets": [
            "52285a599783491f91ce85da13a2ff9a",
            "445aadfbe20649d1bfb0c74afd00c172",
            "2a69a9c238f6496096255b233a6b54e0",
            "51c4616ebfa648f883cbfa0fafebc006",
            "b30484f0b9ce4cdc9e10560385f4b443",
            "6173ed4ecbe6488b8ffe33bc87c6b6aa",
            "4e526950b2bd4494b6800c3b92200885",
            "506c29769e554b2491f793803c74d04d",
            "127ac853477b47ecb800cc27f4304bc6",
            "8a5a27f5020a4d7183898f841ec2bbd1",
            "2ddf6c9ebbe64283abb427b449d90999"
          ]
        },
        "outputId": "0d9ffb5e-e2cb-4c59-9e27-452e67185ceb"
      },
      "execution_count": null,
      "outputs": [
        {
          "output_type": "stream",
          "name": "stderr",
          "text": [
            "Downloading: \"https://download.pytorch.org/models/resnet18-f37072fd.pth\" to /root/.cache/torch/hub/checkpoints/resnet18-f37072fd.pth\n"
          ]
        },
        {
          "output_type": "display_data",
          "data": {
            "text/plain": [
              "  0%|          | 0.00/44.7M [00:00<?, ?B/s]"
            ],
            "application/vnd.jupyter.widget-view+json": {
              "version_major": 2,
              "version_minor": 0,
              "model_id": "52285a599783491f91ce85da13a2ff9a"
            }
          },
          "metadata": {}
        },
        {
          "output_type": "stream",
          "name": "stderr",
          "text": [
            "/usr/local/lib/python3.7/dist-packages/ipykernel_launcher.py:7: UserWarning: To copy construct from a tensor, it is recommended to use sourceTensor.clone().detach() or sourceTensor.clone().detach().requires_grad_(True), rather than torch.tensor(sourceTensor).\n",
            "  import sys\n"
          ]
        }
      ]
    },
    {
      "cell_type": "code",
      "source": [
        "model_res = train_model(model_resnet, criterion, optimizer_ft, exp_lr_scheduler, num_epochs=20)"
      ],
      "metadata": {
        "colab": {
          "base_uri": "https://localhost:8080/",
          "height": 1000
        },
        "id": "5njLIN0IrSQ4",
        "outputId": "2899c73b-2a0b-4dee-9d70-28668be6156f"
      },
      "execution_count": null,
      "outputs": [
        {
          "output_type": "stream",
          "name": "stdout",
          "text": [
            "Epoch 1/20\n",
            "----------\n"
          ]
        },
        {
          "output_type": "stream",
          "name": "stderr",
          "text": [
            "/usr/local/lib/python3.7/dist-packages/torch/optim/lr_scheduler.py:136: UserWarning: Detected call of `lr_scheduler.step()` before `optimizer.step()`. In PyTorch 1.1.0 and later, you should call them in the opposite order: `optimizer.step()` before `lr_scheduler.step()`.  Failure to do this will result in PyTorch skipping the first value of the learning rate schedule. See more details at https://pytorch.org/docs/stable/optim.html#how-to-adjust-learning-rate\n",
            "  \"https://pytorch.org/docs/stable/optim.html#how-to-adjust-learning-rate\", UserWarning)\n",
            "/usr/local/lib/python3.7/dist-packages/torch/utils/data/dataloader.py:490: UserWarning: This DataLoader will create 4 worker processes in total. Our suggested max number of worker in current system is 2, which is smaller than what this DataLoader is going to create. Please be aware that excessive worker creation might get DataLoader running slow or even freeze, lower the worker number to avoid potential slowness/freeze if necessary.\n",
            "  cpuset_checked))\n"
          ]
        },
        {
          "output_type": "stream",
          "name": "stdout",
          "text": [
            "train Loss: 0.4713 Acc: 0.7819\n",
            "val Loss: 0.4230 Acc: 0.8525\n",
            "trigger times: 0\n",
            "Epoch 2/20\n",
            "----------\n",
            "train Loss: 0.2427 Acc: 0.9117\n",
            "val Loss: 0.3882 Acc: 0.8561\n",
            "trigger times: 0\n",
            "Epoch 3/20\n",
            "----------\n",
            "train Loss: 0.1851 Acc: 0.9296\n",
            "val Loss: 0.3361 Acc: 0.8443\n",
            "trigger times: 0\n",
            "Epoch 4/20\n",
            "----------\n",
            "train Loss: 0.1570 Acc: 0.9391\n",
            "val Loss: 0.3490 Acc: 0.8461\n",
            "Trigger Times: 1\n",
            "Epoch 5/20\n",
            "----------\n",
            "train Loss: 0.1333 Acc: 0.9488\n",
            "val Loss: 0.3441 Acc: 0.8506\n",
            "trigger times: 0\n",
            "Epoch 6/20\n",
            "----------\n",
            "train Loss: 0.1181 Acc: 0.9557\n",
            "val Loss: 0.4058 Acc: 0.8515\n",
            "Trigger Times: 1\n",
            "Epoch 7/20\n",
            "----------\n",
            "train Loss: 0.1142 Acc: 0.9593\n",
            "val Loss: 0.3766 Acc: 0.8525\n",
            "trigger times: 0\n",
            "Epoch 8/20\n",
            "----------\n",
            "train Loss: 0.1172 Acc: 0.9560\n",
            "val Loss: 0.3112 Acc: 0.8707\n",
            "trigger times: 0\n",
            "Epoch 9/20\n",
            "----------\n",
            "train Loss: 0.1091 Acc: 0.9631\n",
            "val Loss: 0.3482 Acc: 0.8588\n",
            "Trigger Times: 1\n",
            "Epoch 10/20\n",
            "----------\n",
            "train Loss: 0.1045 Acc: 0.9590\n",
            "val Loss: 0.3565 Acc: 0.8561\n",
            "Trigger Times: 2\n",
            "Epoch 11/20\n",
            "----------\n",
            "train Loss: 0.1082 Acc: 0.9608\n",
            "val Loss: 0.3717 Acc: 0.8506\n",
            "Trigger Times: 3\n",
            "Early stopping!\n",
            "Start to test process.\n",
            "Training complete in 17m 51s\n",
            "Best val Acc: 0.870674\n"
          ]
        },
        {
          "output_type": "display_data",
          "data": {
            "text/plain": [
              "<Figure size 720x360 with 1 Axes>"
            ],
            "image/png": "[encoded data removed]"
          },
          "metadata": {
            "needs_background": "light"
          }
        },
        {
          "output_type": "display_data",
          "data": {
            "text/plain": [
              "<Figure size 720x360 with 1 Axes>"
            ],
            "image/png": "[encoded data removed]"
          },
          "metadata": {
            "needs_background": "light"
          }
        }
      ]
    },
    {
      "cell_type": "code",
      "source": [
        "#torch.save(model_res.state_dict(), f\"saved_model_pytorch/model_resnet_{mag}_statedict.pt\")\n",
        "#torch.save(model_res, f\"saved_model_pytorch/model_resnet_{mag}_scomplete.pt\")\n",
        "\n",
        "torch.save(model_res.state_dict(), f\"saved_model_pytorch/model_resnet_all_statedict.pt\")\n",
        "torch.save(model_res, f\"saved_model_pytorch/model_resnet_all_scomplete.pt\")"
      ],
      "metadata": {
        "id": "NqMxD7t14Qae"
      },
      "execution_count": null,
      "outputs": []
    },
    {
      "cell_type": "markdown",
      "source": [
        "## Densenet"
      ],
      "metadata": {
        "id": "sKvUtbNw58wO"
      }
    },
    {
      "cell_type": "code",
      "source": [
        "'''\n",
        "This part of the code is modified based on need of running each magnification or magnification independent approach. \n",
        "If magnification independent will be run -> data_dir should be in data_all, otherwise data_dir should be the magnification folder 40x,100x,200x or 400x.\n",
        "'''\n",
        "# mag = '400x'\n",
        "# data_dir = f'{mag}}/'\n",
        "data_dir = f'data_all/' # Magnification independent approach.\n",
        "\n",
        "data_transforms = {\n",
        "    'train': transforms.Compose([\n",
        "        transforms.RandomResizedCrop(256),\n",
        "        transforms.RandomHorizontalFlip(),\n",
        "        transforms.RandomVerticalFlip(),\n",
        "        transforms.RandomAdjustSharpness(sharpness_factor=2),\n",
        "        transforms.ToTensor(),\n",
        "        transforms.Normalize([0.485, 0.456, 0.406], [0.229, 0.224, 0.225])\n",
        "    ]),\n",
        "    'val': transforms.Compose([\n",
        "        transforms.ToTensor(),\n",
        "        transforms.Normalize([0.485, 0.456, 0.406], [0.229, 0.224, 0.225])\n",
        "    ]),\n",
        "}\n",
        "\n",
        "image_datasets = {x: datasets.ImageFolder(os.path.join(data_dir, x),\n",
        "                                          data_transforms[x])\n",
        "                  for x in ['train', 'val']}\n",
        "dataloaders = {x: torch.utils.data.DataLoader(image_datasets[x], batch_size=40,\n",
        "                                             shuffle=True, num_workers=4)\n",
        "              for x in ['train', 'val']}\n",
        "dataset_sizes = {x: len(image_datasets[x]) for x in ['train', 'val']}\n",
        "class_names = image_datasets['train'].classes\n",
        "\n",
        "device = torch.device(\"cuda:0\" if torch.cuda.is_available() else \"cpu\")"
      ],
      "metadata": {
        "id": "hjKSejY0-T4S"
      },
      "execution_count": null,
      "outputs": []
    },
    {
      "cell_type": "code",
      "source": [
        "train_y = image_datasets['train'].targets\n",
        "val_y = image_datasets['val'].targets\n",
        "print(\"Train set label distribution\", Counter(train_y))\n",
        "print(\"Val set label distribution\", Counter(val_y))\n",
        "class_weights_train = class_weight.compute_class_weight(class_weight = 'balanced', classes = np.unique(train_y), y = train_y)                                                    \n",
        "class_weights_train = torch.tensor(class_weights_train ,dtype=torch.float).cuda()\n",
        "print(class_weights_train)"
      ],
      "metadata": {
        "id": "h8CegpR9emes"
      },
      "execution_count": null,
      "outputs": []
    },
    {
      "cell_type": "code",
      "source": [
        "''' Plots for magnification dependent models. \n",
        "def draw_plot_loss(loss_train, loss_val, mag=mag):\n",
        "# Draws training and validation loss curves in magnification dependent model. \n",
        "    plt.figure(figsize=(10,5))\n",
        "    plt.title(\"Training and Validation Loss\")\n",
        "    plt.plot(loss_val,label=\"val\")\n",
        "    plt.plot(loss_train,label=\"train\")\n",
        "    plt.xlabel(\"iterations\")\n",
        "    plt.ylabel(\"Loss\")\n",
        "    plt.legend()\n",
        "    plt.savefig(f'lossGraphs/model_dense/{mag}/{mag}_losses.png')\n",
        "    plt.show()\n",
        "\n",
        "def draw_plot_acc(acc_train, acc_val, mag=mag):\n",
        "# Draws training and validation accuracy curves in magnification dependent model. \n",
        "    plt.figure(figsize=(10,5))\n",
        "    plt.title(\"Training and Validation Accuracy\")\n",
        "    plt.plot(acc_val,label=\"val\")\n",
        "    plt.plot(acc_train,label=\"train\")\n",
        "    plt.xlabel(\"iterations\")\n",
        "    plt.ylabel(\"Accuracy\")\n",
        "    plt.legend()\n",
        "    plt.savefig(f'lossGraphs/model_dense/{mag}/{mag}_acc.png')\n",
        "    plt.show()\n",
        "'''\n",
        "\n",
        "def draw_plot_loss_for_all(loss_train, loss_val): \n",
        "# Draws training and validation loss curves in magnification independent model. \n",
        "    plt.figure(figsize=(10,5))\n",
        "    plt.title(\"Training and Validation Loss\")\n",
        "    plt.plot(loss_val,label=\"val\")\n",
        "    plt.plot(loss_train,label=\"train\")\n",
        "    plt.xlabel(\"iterations\")\n",
        "    plt.ylabel(\"Loss\")\n",
        "    plt.legend()\n",
        "    plt.savefig(f'lossGraphs/model_dense/data_all/all_losses.png')\n",
        "    plt.show()\n",
        "\n",
        "def draw_plot_acc_for_all(acc_train, acc_val):\n",
        "# Draws training and validation accuracy curves in magnification independent model. \n",
        "    plt.figure(figsize=(10,5))\n",
        "    plt.title(\"Training and Validation Accuracy\")\n",
        "    plt.plot(acc_val,label=\"val\")\n",
        "    plt.plot(acc_train,label=\"train\")\n",
        "    plt.xlabel(\"iterations\")\n",
        "    plt.ylabel(\"Accuracy\")\n",
        "    plt.legend()\n",
        "    plt.savefig(f'lossGraphs/model_dense/data_all/all_acc.png')\n",
        "    plt.show()"
      ],
      "metadata": {
        "id": "7QCan_saPR7j"
      },
      "execution_count": null,
      "outputs": []
    },
    {
      "cell_type": "code",
      "source": [
        "def train_model(model, criterion, optimizer, scheduler, num_epochs=20):\n",
        "    since = time.time()\n",
        "\n",
        "    best_model_wts = copy.deepcopy(model.state_dict())\n",
        "    best_acc = 0.0\n",
        "\n",
        "    val_losses = []\n",
        "    train_losses = []\n",
        "    train_acc=[]\n",
        "    val_acc=[]\n",
        "\n",
        "    last_loss = 100\n",
        "    patience = 3\n",
        "    triggertimes = 0\n",
        "\n",
        "    for epoch in range(num_epochs):\n",
        "        print('Epoch {}/{}'.format(epoch+1, num_epochs))\n",
        "        print('-' * 10)\n",
        "\n",
        "        # Each epoch has a training and validation phase\n",
        "        for phase in ['train', 'val']:\n",
        "            if phase == 'train':\n",
        "                scheduler.step()\n",
        "                model.train()  # Set model to training mode\n",
        "            else:\n",
        "                model.eval()   # Set model to evaluate mode\n",
        "\n",
        "            running_loss = 0.0\n",
        "            running_corrects = 0\n",
        "\n",
        "            # Iterate over data.\n",
        "            for inputs, labels in dataloaders[phase]:\n",
        "                inputs = inputs.to(device)\n",
        "                labels = labels.to(device)\n",
        "\n",
        "                # zero the parameter gradients\n",
        "                optimizer.zero_grad()\n",
        "\n",
        "                # forward\n",
        "                # track history if only in train\n",
        "                with torch.set_grad_enabled(phase == 'train'):\n",
        "                    outputs = model(inputs)\n",
        "                    _, preds = torch.max(outputs, 1)\n",
        "                    loss = criterion(outputs, labels)\n",
        "\n",
        "                    # backward + optimize only if in training phase\n",
        "                    if phase == 'train':\n",
        "                        loss.backward()\n",
        "                        optimizer.step()\n",
        "\n",
        "                # statistics\n",
        "                running_loss += loss.item() * inputs.size(0)\n",
        "                running_corrects += torch.sum(preds == labels.data)\n",
        "\n",
        "            epoch_loss = running_loss / dataset_sizes[phase]\n",
        "            epoch_acc = running_corrects.double() / dataset_sizes[phase]\n",
        "\n",
        "            if phase == 'train':\n",
        "              train_losses.append(epoch_loss)\n",
        "              train_acc.append(epoch_acc.item())\n",
        "            if phase == 'val':\n",
        "              val_losses.append(epoch_loss)\n",
        "              val_acc.append(epoch_acc.item())\n",
        "\n",
        "            print('{} Loss: {:.4f} Acc: {:.4f}'.format(\n",
        "                phase, epoch_loss, epoch_acc))\n",
        "\n",
        "            # deep copy the model\n",
        "            if phase == 'val' and epoch_acc > best_acc:\n",
        "                best_acc = epoch_acc\n",
        "                best_model_wts = copy.deepcopy(model.state_dict())\n",
        "\n",
        "        if epoch_loss > last_loss:\n",
        "            trigger_times += 1\n",
        "            print('Trigger Times:', trigger_times)\n",
        "\n",
        "            if trigger_times >= patience:\n",
        "                print('Early stopping!\\nStart to test process.')\n",
        "                time_elapsed = time.time() - since\n",
        "                print('Training complete in {:.0f}m {:.0f}s'.format(\n",
        "                    time_elapsed // 60, time_elapsed % 60))\n",
        "                print('Best val Acc: {:4f}'.format(best_acc))\n",
        "\n",
        "                #draw_plot_loss(train_losses, val_losses)\n",
        "                #draw_plot_acc(train_acc, val_acc)\n",
        "                draw_plot_loss_for_all(train_losses, val_losses)\n",
        "                draw_plot_acc_for_all(train_acc, val_acc)\n",
        "\n",
        "                # load best model weights\n",
        "                model.load_state_dict(best_model_wts)\n",
        "                return model\n",
        "\n",
        "        else:\n",
        "            print('trigger times: 0')\n",
        "            trigger_times = 0\n",
        "\n",
        "        last_loss = epoch_loss\n",
        "                    \n",
        "\n",
        "    time_elapsed = time.time() - since\n",
        "    print('Training complete in {:.0f}m {:.0f}s'.format(\n",
        "        time_elapsed // 60, time_elapsed % 60))\n",
        "    print('Best val Acc: {:4f}'.format(best_acc))\n",
        "\n",
        "    draw_plot_loss(train_losses, val_losses)\n",
        "    draw_plot_acc(train_acc, val_acc)\n",
        "\n",
        "    # load best model weights\n",
        "    model.load_state_dict(best_model_wts)\n",
        "    return model"
      ],
      "metadata": {
        "id": "Hwpnrl7R58wP"
      },
      "execution_count": null,
      "outputs": []
    },
    {
      "cell_type": "code",
      "source": [
        "model_dense = models.densenet161(pretrained=True)\n",
        "num_ftrs = model_dense.classifier.in_features\n",
        "model_dense.classifier = nn.Linear(num_ftrs, 2) #single layer feed forward network\n",
        "model_dense = model_dense.to(device)\n",
        "\n",
        "criterion = nn.CrossEntropyLoss(weight=torch.tensor(class_weights_train))\n",
        "\n",
        "# Observe that all parameters are being optimized\n",
        "optimizer_ft = optim.SGD(model_dense.parameters(), lr=0.0005, momentum=0.9)\n",
        "\n",
        "# Decay LR by a factor of 0.1 every 7 epochs\n",
        "exp_lr_scheduler = lr_scheduler.StepLR(optimizer_ft, step_size=7, gamma=0.1)"
      ],
      "metadata": {
        "id": "5kghnY4oKFc9"
      },
      "execution_count": null,
      "outputs": []
    },
    {
      "cell_type": "code",
      "source": [
        "model_dense = train_model(model_dense, criterion, optimizer_ft, exp_lr_scheduler, num_epochs=20)"
      ],
      "metadata": {
        "id": "-00mPrRU-19C"
      },
      "execution_count": null,
      "outputs": []
    },
    {
      "cell_type": "code",
      "source": [
        "#torch.save(model_dense.state_dict(), f\"saved_model_pytorch/model_dense_{mag}_statedict.pt\")\n",
        "#torch.save(model_dense, f\"saved_model_pytorch/model_dense_{mag}_scomplete.pt\")\n",
        "\n",
        "torch.save(model_dense.state_dict(), f\"saved_model_pytorch/model_densenet_all_statedict.pt\")\n",
        "torch.save(model_dense, f\"saved_model_pytorch/model_densenet_all_scomplete.pt\")"
      ],
      "metadata": {
        "id": "Ggw7TMp9K3Op"
      },
      "execution_count": null,
      "outputs": []
    },
    {
      "cell_type": "code",
      "source": [
        "summary(model_dense,input_size=(3,256,256))"
      ],
      "metadata": {
        "id": "VzxjOG53w-P0"
      },
      "execution_count": null,
      "outputs": []
    },
    {
      "cell_type": "markdown",
      "source": [
        "\n",
        "## VGG16"
      ],
      "metadata": {
        "id": "knp7r_-e_U8f"
      }
    },
    {
      "cell_type": "code",
      "source": [
        "'''\n",
        "This part of the code is modified based on need of running each magnification or magnification independent approach. \n",
        "If magnification independent will be run -> data_dir should be in data_all, otherwise data_dir should be the magnification folder 40x,100x,200x or 400x.\n",
        "'''\n",
        "# mag = '400x'\n",
        "# data_dir = f'{mag}}/'\n",
        "data_dir = f'data_all/' # Magnification independent approach.\n",
        "\n",
        "data_transforms = {\n",
        "    'train': transforms.Compose([\n",
        "        transforms.RandomResizedCrop(256),\n",
        "        transforms.RandomHorizontalFlip(),\n",
        "        transforms.RandomVerticalFlip(),\n",
        "        transforms.RandomAdjustSharpness(sharpness_factor=2),\n",
        "        transforms.ToTensor(),\n",
        "        transforms.Normalize([0.485, 0.456, 0.406], [0.229, 0.224, 0.225])\n",
        "    ]),\n",
        "    'val': transforms.Compose([\n",
        "        transforms.ToTensor(),\n",
        "        transforms.Normalize([0.485, 0.456, 0.406], [0.229, 0.224, 0.225])\n",
        "    ]),\n",
        "}\n",
        "\n",
        "image_datasets = {x: datasets.ImageFolder(os.path.join(data_dir, x),\n",
        "                                          data_transforms[x])\n",
        "                  for x in ['train', 'val']}\n",
        "dataloaders = {x: torch.utils.data.DataLoader(image_datasets[x], batch_size=40,\n",
        "                                             shuffle=True, num_workers=4)\n",
        "              for x in ['train', 'val']}\n",
        "dataset_sizes = {x: len(image_datasets[x]) for x in ['train', 'val']}\n",
        "class_names = image_datasets['train'].classes\n",
        "\n",
        "device = torch.device(\"cuda:0\" if torch.cuda.is_available() else \"cpu\")"
      ],
      "metadata": {
        "colab": {
          "base_uri": "https://localhost:8080/"
        },
        "id": "ofPA2bZw_U8g",
        "outputId": "2c84b475-aa4b-4dce-9ca8-766ea48bb93d"
      },
      "execution_count": null,
      "outputs": [
        {
          "output_type": "stream",
          "name": "stderr",
          "text": [
            "/usr/local/lib/python3.7/dist-packages/torch/utils/data/dataloader.py:490: UserWarning: This DataLoader will create 4 worker processes in total. Our suggested max number of worker in current system is 2, which is smaller than what this DataLoader is going to create. Please be aware that excessive worker creation might get DataLoader running slow or even freeze, lower the worker number to avoid potential slowness/freeze if necessary.\n",
            "  cpuset_checked))\n"
          ]
        }
      ]
    },
    {
      "cell_type": "code",
      "source": [
        "train_y = image_datasets['train'].targets\n",
        "val_y = image_datasets['val'].targets\n",
        "print(\"Train set label distribution\", Counter(train_y))\n",
        "print(\"Val set label distribution\", Counter(val_y))\n",
        "class_weights_train = class_weight.compute_class_weight(class_weight = 'balanced', classes = np.unique(train_y), y = train_y)                                                    \n",
        "class_weights_train = torch.tensor(class_weights_train ,dtype=torch.float).cuda()\n",
        "print(class_weights_train)\n",
        "class_weights_val = class_weight.compute_class_weight(class_weight = 'balanced', classes = np.unique(val_y), y = val_y)                                                    \n",
        "class_weights_val = torch.tensor(class_weights_val ,dtype=torch.float).cuda()\n",
        "print(class_weights_val)"
      ],
      "metadata": {
        "id": "4qpOUyW__U8g"
      },
      "execution_count": null,
      "outputs": []
    },
    {
      "cell_type": "code",
      "source": [
        "''' Plots for magnification dependent model. \n",
        "def draw_plot_loss(loss_train, loss_val, mag=mag):\n",
        "# Draws training and validation loss curves in magnification dependent model. \n",
        "    plt.figure(figsize=(10,5))\n",
        "    plt.title(\"Training and Validation Loss\")\n",
        "    plt.plot(loss_val,label=\"val\")\n",
        "    plt.plot(loss_train,label=\"train\")\n",
        "    plt.xlabel(\"iterations\")\n",
        "    plt.ylabel(\"Loss\")\n",
        "    plt.legend()\n",
        "    plt.savefig(f'lossGraphs/model_vgg/{mag}/{mag}_losses.png')\n",
        "    plt.show()\n",
        "\n",
        "def draw_plot_acc(acc_train, acc_val, mag=mag):\n",
        "# Draws training and validation accuracy curves in magnification dependent model. \n",
        "    plt.figure(figsize=(10,5))\n",
        "    plt.title(\"Training and Validation Accuracy\")\n",
        "    plt.plot(acc_val,label=\"val\")\n",
        "    plt.plot(acc_train,label=\"train\")\n",
        "    plt.xlabel(\"iterations\")\n",
        "    plt.ylabel(\"Accuracy\")\n",
        "    plt.legend()\n",
        "    plt.savefig(f'lossGraphs/model_vgg/{mag}/{mag}_acc.png')\n",
        "    plt.show()\n",
        "'''\n",
        "\n",
        "def draw_plot_loss_for_all(loss_train, loss_val): \n",
        "# Draws training and validation loss curves in magnification independent model. \n",
        "    plt.figure(figsize=(10,5))\n",
        "    plt.title(\"Training and Validation Loss\")\n",
        "    plt.plot(loss_val,label=\"val\")\n",
        "    plt.plot(loss_train,label=\"train\")\n",
        "    plt.xlabel(\"iterations\")\n",
        "    plt.ylabel(\"Loss\")\n",
        "    plt.legend()\n",
        "    plt.savefig(f'lossGraphs/model_vgg/data_all/all_losses.png')\n",
        "    plt.show()\n",
        "\n",
        "def draw_plot_acc_for_all(acc_train, acc_val):\n",
        "# Draws training and validation accuracy curves in magnification independent model.\n",
        "    plt.figure(figsize=(10,5))\n",
        "    plt.title(\"Training and Validation Accuracy\")\n",
        "    plt.plot(acc_val,label=\"val\")\n",
        "    plt.plot(acc_train,label=\"train\")\n",
        "    plt.xlabel(\"iterations\")\n",
        "    plt.ylabel(\"Accuracy\")\n",
        "    plt.legend()\n",
        "    plt.savefig(f'lossGraphs/model_vgg/data_all/all_acc.png')\n",
        "    plt.show()"
      ],
      "metadata": {
        "id": "6iCUXN-M2ZWo"
      },
      "execution_count": null,
      "outputs": []
    },
    {
      "cell_type": "code",
      "source": [
        "def train_model(model, criterion, optimizer, scheduler, num_epochs=20):\n",
        "    since = time.time()\n",
        "\n",
        "    best_model_wts = copy.deepcopy(model.state_dict())\n",
        "    best_acc = 0.0\n",
        "\n",
        "    val_losses = []\n",
        "    train_losses = []\n",
        "    train_acc=[]\n",
        "    val_acc=[]\n",
        "\n",
        "    last_loss = 100\n",
        "    patience = 5\n",
        "    triggertimes = 0\n",
        "\n",
        "    for epoch in range(num_epochs):\n",
        "        print('Epoch {}/{}'.format(epoch+1, num_epochs))\n",
        "        print('-' * 10)\n",
        "\n",
        "        # Each epoch has a training and validation phase\n",
        "        for phase in ['train', 'val']:\n",
        "            if phase == 'train':\n",
        "                scheduler.step()\n",
        "                model.train()  # Set model to training mode\n",
        "            else:\n",
        "                model.eval()   # Set model to evaluate mode\n",
        "\n",
        "            running_loss = 0.0\n",
        "            running_corrects = 0\n",
        "\n",
        "            # Iterate over data.\n",
        "            for inputs, labels in dataloaders[phase]:\n",
        "                inputs = inputs.to(device)\n",
        "                labels = labels.to(device)\n",
        "\n",
        "                # zero the parameter gradients\n",
        "                optimizer.zero_grad()\n",
        "\n",
        "                # forward\n",
        "                # track history if only in train\n",
        "                with torch.set_grad_enabled(phase == 'train'):\n",
        "                    outputs = model(inputs)\n",
        "                    _, preds = torch.max(outputs, 1)\n",
        "                    loss = criterion(outputs, labels)\n",
        "\n",
        "                    # backward + optimize only if in training phase\n",
        "                    if phase == 'train':\n",
        "                        loss.backward()\n",
        "                        optimizer.step()\n",
        "\n",
        "                # statistics\n",
        "                running_loss += loss.item() * inputs.size(0)\n",
        "                running_corrects += torch.sum(preds == labels.data)\n",
        "\n",
        "            epoch_loss = running_loss / dataset_sizes[phase]\n",
        "            epoch_acc = running_corrects.double() / dataset_sizes[phase]\n",
        "\n",
        "            if phase == 'train':\n",
        "              train_losses.append(epoch_loss)\n",
        "              train_acc.append(epoch_acc.item())\n",
        "            if phase == 'val':\n",
        "              val_losses.append(epoch_loss)\n",
        "              val_acc.append(epoch_acc.item())\n",
        "\n",
        "            print('{} Loss: {:.4f} Acc: {:.4f}'.format(\n",
        "                phase, epoch_loss, epoch_acc))\n",
        "\n",
        "            # deep copy the model\n",
        "            if phase == 'val' and epoch_acc > best_acc:\n",
        "                best_acc = epoch_acc\n",
        "                best_model_wts = copy.deepcopy(model.state_dict())\n",
        "\n",
        "        if epoch_loss > last_loss:\n",
        "            trigger_times += 1\n",
        "            print('Trigger Times:', trigger_times)\n",
        "\n",
        "            if trigger_times >= patience:\n",
        "                print('Early stopping!\\nStart to test process.')\n",
        "                time_elapsed = time.time() - since\n",
        "                print('Training complete in {:.0f}m {:.0f}s'.format(\n",
        "                    time_elapsed // 60, time_elapsed % 60))\n",
        "                print('Best val Acc: {:4f}'.format(best_acc))\n",
        "\n",
        "                #draw_plot_loss(train_losses, val_losses)\n",
        "                #draw_plot_acc(train_acc, val_acc)\n",
        "                draw_plot_loss_for_all(train_losses, val_losses)\n",
        "                draw_plot_acc_for_all(train_acc, val_acc)\n",
        "\n",
        "                # load best model weights\n",
        "                model.load_state_dict(best_model_wts)\n",
        "                return model\n",
        "\n",
        "        else:\n",
        "            print('trigger times: 0')\n",
        "            trigger_times = 0\n",
        "\n",
        "        last_loss = epoch_loss\n",
        "                    \n",
        "\n",
        "    time_elapsed = time.time() - since\n",
        "    print('Training complete in {:.0f}m {:.0f}s'.format(\n",
        "        time_elapsed // 60, time_elapsed % 60))\n",
        "    print('Best val Acc: {:4f}'.format(best_acc))\n",
        "\n",
        "    #draw_plot_loss(train_losses, val_losses)\n",
        "    #draw_plot_acc(train_acc, val_acc)\n",
        "    draw_plot_loss_for_all(train_losses, val_losses)\n",
        "    draw_plot_acc_for_all(train_acc, val_acc)\n",
        "\n",
        "    # load best model weights\n",
        "    model.load_state_dict(best_model_wts)\n",
        "    return model"
      ],
      "metadata": {
        "id": "s7MeB8NO_U8g"
      },
      "execution_count": null,
      "outputs": []
    },
    {
      "cell_type": "code",
      "source": [
        "model_vgg = models.vgg16(pretrained=True)\n",
        "num_ftrs = model_vgg.classifier[6].in_features #in_feature is the number of inputs for your linear layer\n",
        "model_vgg.classifier[6] = nn.Linear(num_ftrs, 2) #single layer feed forward network. Applies a linear transformation to the incoming data\n",
        "\n",
        "model_eff = model_vgg.to(device)\n",
        "\n",
        "criterion = nn.CrossEntropyLoss(weight=torch.tensor(class_weights_train))\n",
        "\n",
        "# Observe that all parameters are being optimized\n",
        "optimizer_ft = optim.SGD(model_vgg.parameters(), lr=0.0005, momentum=0.9)\n",
        "\n",
        "# Decay LR by a factor of 0.1 every 7 epochs\n",
        "exp_lr_scheduler = lr_scheduler.StepLR(optimizer_ft, step_size=7, gamma=0.1)"
      ],
      "metadata": {
        "colab": {
          "base_uri": "https://localhost:8080/",
          "height": 124,
          "referenced_widgets": [
            "cbc7587f55ae479ca27bceca4d9c23a3",
            "eead7c1624bd430d9d79d0ca8c202a93",
            "578283c9da0143719c00cd01fa9b0362",
            "1322f21737834523a392fa10ba53b26b",
            "d6a6beaabef74b56886f0986edcddc60",
            "73a8c7cb11e04c03836098a19edcf7c5",
            "94b77b0420fa44f1b4823bc8f34f7d92",
            "46b1937607094f22b158c0c9dd35599e",
            "c82afaab871948b597b1c39a512b5ba2",
            "afc2e37d57d841d6bc611db037c44dfd",
            "17b92ce51b1a47779361ecb25cd355d0"
          ]
        },
        "id": "rf-l2emFIWUG",
        "outputId": "a32fceda-344b-4d8d-ccc8-6a1fafeb5b48"
      },
      "execution_count": null,
      "outputs": [
        {
          "output_type": "stream",
          "name": "stderr",
          "text": [
            "Downloading: \"https://download.pytorch.org/models/vgg16-397923af.pth\" to /root/.cache/torch/hub/checkpoints/vgg16-397923af.pth\n"
          ]
        },
        {
          "output_type": "display_data",
          "data": {
            "text/plain": [
              "  0%|          | 0.00/528M [00:00<?, ?B/s]"
            ],
            "application/vnd.jupyter.widget-view+json": {
              "version_major": 2,
              "version_minor": 0,
              "model_id": "cbc7587f55ae479ca27bceca4d9c23a3"
            }
          },
          "metadata": {}
        },
        {
          "output_type": "stream",
          "name": "stderr",
          "text": [
            "/usr/local/lib/python3.7/dist-packages/ipykernel_launcher.py:7: UserWarning: To copy construct from a tensor, it is recommended to use sourceTensor.clone().detach() or sourceTensor.clone().detach().requires_grad_(True), rather than torch.tensor(sourceTensor).\n",
            "  import sys\n"
          ]
        }
      ]
    },
    {
      "cell_type": "code",
      "source": [
        "model_vgg = train_model(model_vgg, criterion, optimizer_ft, exp_lr_scheduler, num_epochs=20)"
      ],
      "metadata": {
        "colab": {
          "base_uri": "https://localhost:8080/",
          "height": 1000
        },
        "outputId": "616f7b43-6f47-4f6d-9d30-141a284e9cba",
        "id": "zfBIsOWZ_U8h"
      },
      "execution_count": null,
      "outputs": [
        {
          "output_type": "stream",
          "name": "stdout",
          "text": [
            "Epoch 1/20\n",
            "----------\n"
          ]
        },
        {
          "output_type": "stream",
          "name": "stderr",
          "text": [
            "/usr/local/lib/python3.7/dist-packages/torch/optim/lr_scheduler.py:136: UserWarning: Detected call of `lr_scheduler.step()` before `optimizer.step()`. In PyTorch 1.1.0 and later, you should call them in the opposite order: `optimizer.step()` before `lr_scheduler.step()`.  Failure to do this will result in PyTorch skipping the first value of the learning rate schedule. See more details at https://pytorch.org/docs/stable/optim.html#how-to-adjust-learning-rate\n",
            "  \"https://pytorch.org/docs/stable/optim.html#how-to-adjust-learning-rate\", UserWarning)\n",
            "/usr/local/lib/python3.7/dist-packages/torch/utils/data/dataloader.py:490: UserWarning: This DataLoader will create 4 worker processes in total. Our suggested max number of worker in current system is 2, which is smaller than what this DataLoader is going to create. Please be aware that excessive worker creation might get DataLoader running slow or even freeze, lower the worker number to avoid potential slowness/freeze if necessary.\n",
            "  cpuset_checked))\n"
          ]
        },
        {
          "output_type": "stream",
          "name": "stdout",
          "text": [
            "train Loss: 0.4213 Acc: 0.8113\n",
            "val Loss: 0.4021 Acc: 0.7332\n",
            "trigger times: 0\n",
            "Epoch 2/20\n",
            "----------\n",
            "train Loss: 0.2616 Acc: 0.8912\n",
            "val Loss: 0.5329 Acc: 0.7596\n",
            "Trigger Times: 1\n",
            "Epoch 3/20\n",
            "----------\n",
            "train Loss: 0.2122 Acc: 0.9227\n",
            "val Loss: 0.3624 Acc: 0.8515\n",
            "trigger times: 0\n",
            "Epoch 4/20\n",
            "----------\n",
            "train Loss: 0.1563 Acc: 0.9391\n",
            "val Loss: 0.5205 Acc: 0.7905\n",
            "Trigger Times: 1\n",
            "Epoch 5/20\n",
            "----------\n",
            "train Loss: 0.1530 Acc: 0.9409\n",
            "val Loss: 0.3826 Acc: 0.8242\n",
            "trigger times: 0\n",
            "Epoch 6/20\n",
            "----------\n",
            "train Loss: 0.1402 Acc: 0.9467\n",
            "val Loss: 0.3970 Acc: 0.8352\n",
            "Trigger Times: 1\n",
            "Epoch 7/20\n",
            "----------\n",
            "train Loss: 0.0913 Acc: 0.9672\n",
            "val Loss: 0.4525 Acc: 0.8488\n",
            "Trigger Times: 2\n",
            "Epoch 8/20\n",
            "----------\n",
            "train Loss: 0.0811 Acc: 0.9703\n",
            "val Loss: 0.4897 Acc: 0.8579\n",
            "Trigger Times: 3\n",
            "Epoch 9/20\n",
            "----------\n",
            "train Loss: 0.0730 Acc: 0.9721\n",
            "val Loss: 0.5344 Acc: 0.8297\n",
            "Trigger Times: 4\n",
            "Epoch 10/20\n",
            "----------\n",
            "train Loss: 0.0702 Acc: 0.9731\n",
            "val Loss: 0.5187 Acc: 0.8443\n",
            "trigger times: 0\n",
            "Epoch 11/20\n",
            "----------\n",
            "train Loss: 0.0709 Acc: 0.9754\n",
            "val Loss: 0.4265 Acc: 0.8561\n",
            "trigger times: 0\n",
            "Epoch 12/20\n",
            "----------\n",
            "train Loss: 0.0734 Acc: 0.9706\n",
            "val Loss: 0.4613 Acc: 0.8497\n",
            "Trigger Times: 1\n",
            "Epoch 13/20\n",
            "----------\n",
            "train Loss: 0.0593 Acc: 0.9793\n",
            "val Loss: 0.5885 Acc: 0.8342\n",
            "Trigger Times: 2\n",
            "Epoch 14/20\n",
            "----------\n",
            "train Loss: 0.0607 Acc: 0.9803\n",
            "val Loss: 0.5026 Acc: 0.8452\n",
            "trigger times: 0\n",
            "Epoch 15/20\n",
            "----------\n",
            "train Loss: 0.0624 Acc: 0.9767\n",
            "val Loss: 0.4764 Acc: 0.8552\n",
            "trigger times: 0\n",
            "Epoch 16/20\n",
            "----------\n",
            "train Loss: 0.0573 Acc: 0.9785\n",
            "val Loss: 0.5061 Acc: 0.8497\n",
            "Trigger Times: 1\n",
            "Epoch 17/20\n",
            "----------\n",
            "train Loss: 0.0593 Acc: 0.9785\n",
            "val Loss: 0.4776 Acc: 0.8534\n",
            "trigger times: 0\n",
            "Epoch 18/20\n",
            "----------\n",
            "train Loss: 0.0609 Acc: 0.9780\n",
            "val Loss: 0.4867 Acc: 0.8534\n",
            "Trigger Times: 1\n",
            "Epoch 19/20\n",
            "----------\n",
            "train Loss: 0.0641 Acc: 0.9754\n",
            "val Loss: 0.4553 Acc: 0.8607\n",
            "trigger times: 0\n",
            "Epoch 20/20\n",
            "----------\n",
            "train Loss: 0.0638 Acc: 0.9759\n",
            "val Loss: 0.4518 Acc: 0.8616\n",
            "trigger times: 0\n",
            "Training complete in 48m 18s\n",
            "Best val Acc: 0.861566\n"
          ]
        },
        {
          "output_type": "display_data",
          "data": {
            "text/plain": [
              "<Figure size 720x360 with 1 Axes>"
            ],
            "image/png": "[encoded data removed]"
          },
          "metadata": {
            "needs_background": "light"
          }
        },
        {
          "output_type": "display_data",
          "data": {
            "text/plain": [
              "<Figure size 720x360 with 1 Axes>"
            ],
            "image/png": "[encoded data removed]"
          },
          "metadata": {
            "needs_background": "light"
          }
        }
      ]
    },
    {
      "cell_type": "code",
      "source": [
        "#torch.save(model_vgg.state_dict(), f\"saved_model_pytorch/model_vgg_{mag}_statedict.pt\")\n",
        "#torch.save(model_vgg, f\"saved_model_pytorch/model_vgg_{mag}_scomplete.pt\")\n",
        "\n",
        "torch.save(model_vgg.state_dict(), f\"saved_model_pytorch/model_vgg_all_statedict.pt\")\n",
        "torch.save(model_vgg, f\"saved_model_pytorch/model_vgg_all_scomplete.pt\")"
      ],
      "metadata": {
        "id": "OqGTFM2k_U8h"
      },
      "execution_count": null,
      "outputs": []
    },
    {
      "cell_type": "markdown",
      "metadata": {
        "id": "anHj4RH9LldN"
      },
      "source": [
        "## Binary Classifier\n",
        "\n",
        "To perfom the binary classification on the test dataset, we first get the paths of test set. Then, each image is read with necessary transformations and prediction is made from previously saved models. "
      ]
    },
    {
      "cell_type": "code",
      "execution_count": null,
      "metadata": {
        "id": "uSGFrV-JoCvD"
      },
      "outputs": [],
      "source": [
        "# Functions \n",
        "def give_paths(mag):    \n",
        "\n",
        "  paths_test_b = [];\n",
        "  paths_test_m = [];\n",
        "\n",
        "  path_test_b=f'data/{mag}x/test/benign'\n",
        "  path_test_m=f'data/{mag}x/test/malignant'\n",
        "\n",
        "  test_b =glob.glob(path_test_b+ '/*.png')\n",
        "  test_m =glob.glob(path_test_m+ '/*.png')\n",
        "\n",
        "  paths_test_b.append(test_b);\n",
        "  paths_test_m.append(test_m);\n",
        "\n",
        "  return paths_test_b, paths_test_m\n",
        "\n",
        "def give_paths_data_all():\n",
        "   # in terms of magnification independent approach (where data_all is used. )\n",
        "  paths_test_b = [];\n",
        "  paths_test_m = [];\n",
        "\n",
        "  path_test_b=f'data_all/test/benign'\n",
        "  path_test_m=f'data_all/test/malignant'\n",
        "\n",
        "  test_b =glob.glob(path_test_b+ '/*.png')\n",
        "  test_m =glob.glob(path_test_m+ '/*.png')\n",
        "\n",
        "  paths_test_b.append(test_b);\n",
        "  paths_test_m.append(test_m);\n",
        "\n",
        "  return paths_test_b, paths_test_m\n",
        "\n",
        "def all_paths_data_all():\n",
        "  # in terms of magnification independent approach (where data_all is used. )\n",
        "  paths=[];\n",
        "  paths.append(give_paths_data_all())\n",
        "  return paths\n",
        "\n",
        "def all_paths():\n",
        "  paths=[];\n",
        "  magnifications=['40','100','200','400']\n",
        "  for mag in magnifications:\n",
        "    paths.append(give_paths(mag))\n",
        "  return paths\n",
        "\n",
        "# Image transformationf for the test set. \n",
        "transform_image = torchvision.transforms.Compose([\n",
        "        torchvision.transforms.ToTensor(),\n",
        "        torchvision.transforms.Normalize([0.485, 0.456, 0.406], [0.229, 0.224, 0.225])\n",
        "])\n",
        "\n",
        "transform_image = torchvision.transforms.Compose([\n",
        "        torchvision.transforms.ToTensor(),\n",
        "        torchvision.transforms.Normalize([0.485, 0.456, 0.406], [0.229, 0.224, 0.225])\n",
        "])\n",
        "\n",
        "def predictions_test_dl(paths, model):\n",
        "  # contains prediction for the val set in the deep learning files. \n",
        "  prediction_list=[]\n",
        "  img_pred=[]\n",
        "  patient_id=[]\n",
        "  pat_all=[]\n",
        "  for path in tqdm(paths):\n",
        "    id = path.rsplit('/', 1)[1].split(\"-\")[2]\n",
        "    patient_id.append(id)\n",
        "    img = Image.open(path)\n",
        "    t_img = transform_image(img)\n",
        "    with torch.no_grad():\n",
        "      t_img = t_img.unsqueeze(0)\n",
        "      prediction = (model(t_img)).tolist()\n",
        "      img_pred.append(prediction)\n",
        "  prediction_list.append(img_pred)\n",
        "  pat_all.append(patient_id)\n",
        "  return prediction_list, pat_all\n",
        "\n",
        "def get_prediction(test_ben_data, test_mal_data, model):\n",
        "\n",
        "  list_ben, patient_ben = predictions_test_dl(test_ben_data[0], model)\n",
        "  list_mal, patient_mal = predictions_test_dl(test_mal_data[0], model)\n",
        "\n",
        "  return list_ben, list_mal, patient_ben, patient_mal\n",
        "\n",
        "def get_prediction_data_all(test_ben_data, test_mal_data, model):\n",
        "\n",
        "  list_ben, patient_ben = predictions_test_dl(test_ben_data, model)\n",
        "  list_mal, patient_mal = predictions_test_dl(test_mal_data, model)\n",
        "\n",
        "  return list_ben, list_mal, patient_ben, patient_mal\n",
        "\n",
        "\n",
        "def patient_score(pat_list, test_ytrue, test_ypred):\n",
        "  '''\n",
        "  Creates dataframe and calculate recognition rate for each binary model.\n",
        "  '''\n",
        "  df = pd.DataFrame()\n",
        "  df['patient_id'] = pat_list\n",
        "  df['y_test'] = test_ytrue\n",
        "  df['y_pred'] = test_ypred\n",
        "  df['comparison'] = np.where(df['y_test'] == df['y_pred'], 1, 0)\n",
        "\n",
        "  num_img_p=[]\n",
        "  true_counts_p=[]\n",
        "  for d in df.groupby('patient_id'): # Groupby the patients based on their Id's\n",
        "    true_counts=d[1].comparison.sum() # The total correctly classfied images. The sum of comparison column. \n",
        "    true_counts_p.append(true_counts) # Creating Nrec value. \n",
        "    values=d[1].patient_id.value_counts(dropna=False) # Count number of apperances of patient Id per patient = # number of images obtained per patient.\n",
        "    num_img_p.append(values[0]) # Creating Np value.\n",
        "\n",
        "    p_score_arr=[]\n",
        "    for i in range(len(num_img_p)): # Both arrays are in the same lenght \n",
        "      p_score=true_counts_p[i]/num_img_p[i] # For each index, calculate p score.\n",
        "      p_score_arr.append(p_score) \n",
        "\n",
        "  return p_score_arr\n",
        "\n",
        "\n",
        "def recognition_rate(p_score_arr):\n",
        "  '''\n",
        "  p_score_arr: p scores. - Array.\n",
        "  It returns recognition rate.\n",
        "  '''\n",
        "  sum_p_score=np.array(p_score_arr).sum() # Sum of p score.\n",
        "  rec_rate=sum_p_score/len(p_score_arr) # Calculation of the recognition rate. \n",
        "  return rec_rate\n",
        "\n",
        "def save_files(data_ben, data_mal, model, mag, m ):\n",
        "  list_ben, list_mal, patient_ben, patient_mal = tqdm(get_prediction(data_ben, data_mal, model))\n",
        "  patient_list = patient_ben[0]+patient_mal[0]\n",
        "  ## Save the Model predictions into pickle files for reusability.\n",
        "  with open(f'saved_predictions/ben_{mag}x_{m}.pickle', 'wb') as handle:\n",
        "      pickle.dump(list_ben, handle)\n",
        "  with open(f'saved_predictions/mal_{mag}x_{m}.pickle', 'wb') as handle:\n",
        "      pickle.dump(list_mal, handle)\n",
        "  with open(f'saved_predictions/patients_{mag}x_{m}.pickle', 'wb') as handle:\n",
        "      pickle.dump(patient_list, handle)\n",
        "\n",
        "def save_files_data_all(data_ben, data_mal, model, m ):\n",
        "  list_ben, list_mal, patient_ben, patient_mal = tqdm(get_prediction_data_all(data_ben, data_mal, model))\n",
        "  patient_list = patient_ben[0]+patient_mal[0]\n",
        "  ## Save the Model predictions into pickle files for reusability.\n",
        "  with open(f'saved_predictions/ben_all_{m}.pickle', 'wb') as handle:\n",
        "      pickle.dump(list_ben, handle)\n",
        "  with open(f'saved_predictions/mal_all_{m}.pickle', 'wb') as handle:\n",
        "      pickle.dump(list_mal, handle)\n",
        "  with open(f'saved_predictions/patients_all_{m}.pickle', 'wb') as handle:\n",
        "      pickle.dump(patient_list, handle)\n",
        "\n",
        "# Read presaved pickle files to save time. \n",
        "def read_files(mag, m ):\n",
        "  ben = pickle.load(open(f'saved_predictions/ben_{mag}x_{m}.pickle','rb'))\n",
        "  mal = pickle.load(open(f'saved_predictions/mal_{mag}x_{m}.pickle','rb'))\n",
        "  pat_list = pickle.load(open(f'saved_predictions/patients_{mag}x_{m}.pickle','rb'))\n",
        "  return ben, mal , pat_list\n",
        "\n",
        "def read_files_data_all(m):\n",
        "  ben = pickle.load(open(f'saved_predictions/ben_all_{m}.pickle','rb'))\n",
        "  mal = pickle.load(open(f'saved_predictions/mal_all_{m}.pickle','rb'))\n",
        "  pat_list = pickle.load(open(f'saved_predictions/patients_all_{m}.pickle','rb'))\n",
        "  return ben, mal , pat_list\n",
        "\n",
        "def convert_class(ben, mal ): # converts probablities to classes using argmax. \n",
        "  l = []\n",
        "  for i in range(len(ben[0])):\n",
        "    l.append(int(np.argmax(ben[0][i], axis=1)))\n",
        "\n",
        "  l_m = []\n",
        "  for i in range(len(mal[0])):\n",
        "    l_m.append(int(np.argmax(mal[0][i], axis=1)))\n",
        "\n",
        "  benign_list = [0] * len(l)\n",
        "  mal_list = [1] * len(l_m)\n",
        "\n",
        "  return l , l_m, benign_list, mal_list\n"
      ]
    },
    {
      "cell_type": "code",
      "source": [
        "paths = all_paths_data_all() # read all test paths. "
      ],
      "metadata": {
        "id": "xkKP59qNra95"
      },
      "execution_count": null,
      "outputs": []
    },
    {
      "cell_type": "code",
      "source": [
        "# import model \n",
        "data_all = True # Magnification independent (using all data).\n",
        "if data_all == True:\n",
        "  model_dense_all = torch.load(\"saved_model_pytorch/model_densenet_all_scomplete.pt\", map_location='cpu')\n",
        "  model_resnet_all = torch.load(\"saved_model_pytorch/model_resnet_all_scomplete.pt\", map_location='cpu')\n",
        "  model_vgg_all = torch.load(\"saved_model_pytorch/model_vgg_all_scomplete.pt\", map_location='cpu')\n",
        "\n",
        "  test_benign_paths_all = paths[0][0][0]\n",
        "  test_mal_paths_all = paths[0][1][0]\n",
        "\n",
        "else: \n",
        "  model_dense_40 = torch.load(\"saved_model_pytorch/model_dense_40x_scomplete.pt\", map_location='cpu')\n",
        "  model_dense_100 = torch.load(\"saved_model_pytorch/model_dense_100x_scomplete.pt\", map_location='cpu')\n",
        "  model_dense_200 = torch.load(\"saved_model_pytorch/model_dense_200x_scomplete.pt\", map_location='cpu')\n",
        "  model_dense_400 = torch.load(\"saved_model_pytorch/model_dense_400x_scomplete.pt\", map_location='cpu')\n",
        "\n",
        "  model_resnet_40 = torch.load(\"saved_model_pytorch/model_resnet_40x_scomplete.pt\", map_location='cpu')\n",
        "  model_resnet_100 = torch.load(\"saved_model_pytorch/model_resnet_100x_scomplete.pt\", map_location='cpu')\n",
        "  model_resnet_200 = torch.load(\"saved_model_pytorch/model_resnet_200x_scomplete.pt\", map_location='cpu')\n",
        "  model_resnet_400 = torch.load(\"saved_model_pytorch/model_resnet_400x_scomplete.pt\", map_location='cpu')\n",
        "\n",
        "  model_vgg_40 = torch.load(\"saved_model_pytorch/model_vgg_40x_scomplete.pt\", map_location='cpu')\n",
        "  model_vgg_100 = torch.load(\"saved_model_pytorch/model_vgg_100x_scomplete.pt\", map_location='cpu')\n",
        "  model_vgg_200 = torch.load(\"saved_model_pytorch/model_vgg_200x_scomplete.pt\", map_location='cpu')\n",
        "  model_vgg_400 = torch.load(\"saved_model_pytorch/model_vgg_400x_scomplete.pt\", map_location='cpu')\n",
        "\n",
        "  # Paths\n",
        "  test_benign_paths_40 = paths[0][0]\n",
        "  test_mal_paths_40 = paths[0][1]\n",
        "\n",
        "  test_benign_paths_100 = paths[1][0]\n",
        "  test_mal_paths_100 = paths[1][1]\n",
        "\n",
        "  test_benign_paths_200 = paths[2][0]\n",
        "  test_mal_paths_200 = paths[2][1]\n",
        "\n",
        "  test_benign_paths_400 = paths[3][0]\n",
        "  test_mal_paths_400 = paths[3][1]\n"
      ],
      "metadata": {
        "id": "JizjKoDJuAo4"
      },
      "execution_count": null,
      "outputs": []
    },
    {
      "cell_type": "code",
      "source": [
        "'''\n",
        "Save files for each magnification (magnification dependent).\n",
        "mag = \"400\"\n",
        "m = 'vgg'\n",
        "save_files(test_benign_paths_400, test_mal_paths_400, model_vgg_400, mag, m )\n",
        "'''\n",
        "## Save files for data_all (magnification independent)\n",
        "# Reads data, gets the prediction probablities and saves them in a pickle file. \n",
        "# So the predictions of DNN are reusable. \n",
        "m = 'vgg'\n",
        "save_files_data_all(test_benign_paths_all, test_mal_paths_all, model_vgg_all, m )"
      ],
      "metadata": {
        "colab": {
          "base_uri": "https://localhost:8080/"
        },
        "id": "-7bwMFHZu9k6",
        "outputId": "8a31f18a-cdd4-437d-8303-a4935ff8e112"
      },
      "execution_count": null,
      "outputs": [
        {
          "output_type": "stream",
          "name": "stderr",
          "text": [
            "100%|██████████| 1008/1008 [20:56<00:00,  1.25s/it]\n",
            "100%|██████████| 1896/1896 [39:27<00:00,  1.25s/it]\n",
            "100%|██████████| 4/4 [00:00<00:00, 43804.74it/s]\n"
          ]
        }
      ]
    },
    {
      "cell_type": "code",
      "source": [
        "'''\n",
        "Magnfication dependent approach. \n",
        "ben, mal , pat_list = read_files(mag, m)\n",
        "l , l_m, benign_list, mal_list = convert_class(ben, mal )\n",
        "test_ypred = l+l_m\n",
        "test_ytrue = benign_list+mal_list'''\n",
        "\n",
        "# Read the files from the saved predictions obtaining benign, malinang datasets and patient ID's.\n",
        "ben, mal , pat_list = read_files_data_all(m)\n",
        "# For each probablities by taking its maximum, it assigns a class. \n",
        "l , l_m, benign_list, mal_list = convert_class(ben, mal )\n",
        "# Adding benign and malignant lists to create the whole list \n",
        "test_ypred = l+l_m\n",
        "# Creating the true labels \n",
        "test_ytrue = benign_list+mal_list"
      ],
      "metadata": {
        "id": "vAU7hZBBqiGk"
      },
      "execution_count": null,
      "outputs": []
    },
    {
      "cell_type": "code",
      "source": [
        "# Evaluation Metrics.\n",
        "from sklearn.metrics import accuracy_score\n",
        "from sklearn import metrics\n",
        "from sklearn.metrics import confusion_matrix\n",
        "\n",
        "acc = accuracy_score(test_ytrue, test_ypred)\n",
        "print(\"Test accuracy:\", acc)\n",
        "cm = confusion_matrix(test_ytrue, test_ypred)\n",
        "precision = sklearn.metrics.precision_score(test_ytrue, test_ypred)\n",
        "print(\"Test precision:\", precision)\n",
        "f1 = sklearn.metrics.f1_score(test_ytrue, test_ypred)\n",
        "print(\"Test f1 score:\", f1)\n",
        "rec = recognition_rate(patient_score(pat_list, test_ytrue, test_ypred))\n",
        "print(\"Recognition Rate:\", rec)\n",
        "roc_auc = sklearn.metrics.roc_auc_score(test_ytrue, test_ypred)\n",
        "print(\"Roc/Auc Score:\", roc_auc)\n",
        "list_metrics = [acc, precision, f1, rec, roc_auc ]"
      ],
      "metadata": {
        "colab": {
          "base_uri": "https://localhost:8080/"
        },
        "id": "aQiVdBT9d-yJ",
        "outputId": "8a77c660-b81a-4a3e-b3d2-d82d18940860"
      },
      "execution_count": null,
      "outputs": [
        {
          "output_type": "stream",
          "name": "stdout",
          "text": [
            "Test accuracy: 0.8533057851239669\n",
            "Test precision: 0.8585365853658536\n",
            "Test f1 score: 0.8920425747592499\n",
            "Recognition Rate: 0.8652233565687409\n",
            "Roc/Auc Score: 0.82028581474784\n"
          ]
        }
      ]
    },
    {
      "cell_type": "code",
      "source": [
        "'''with open(f'results/results_{mag}_{m}.txt', 'w') as the_file:\n",
        "  for i in list_metrics:\n",
        "    the_file.write(str(i)+ '\\n')'''\n",
        "\n",
        "with open(f'results/results_all_{m}.txt', 'w') as the_file:\n",
        "  for i in list_metrics:\n",
        "    the_file.write(str(i)+ '\\n')"
      ],
      "metadata": {
        "id": "bXbYt9f5O5kB"
      },
      "execution_count": null,
      "outputs": []
    },
    {
      "cell_type": "markdown",
      "source": [
        "# Ensemble Learning with weighted voting and Obtaining Prediction Labels from Ensemble model to give ML for multiclassification part.\n",
        "\n",
        "The ensemble model was created by taking the weighted votes where weights were assigned from binary classifier's recognition rate success. "
      ],
      "metadata": {
        "id": "SMch08HuhEpO"
      }
    },
    {
      "cell_type": "code",
      "source": [
        "# Ensemble Learning Functions\n",
        "def get_results(mag, m):\n",
        "  '''\n",
        "  Returns the metric to be used as weight: Default set as Recognition rate. \n",
        "  '''\n",
        "  with open(f'results/results_{mag}_{m}.txt') as f:\n",
        "      lines = f.readlines()\n",
        "      results_list=[]\n",
        "      for line in lines:\n",
        "        line = line.strip('\\n')\n",
        "        results_list.append(line)\n",
        "\n",
        "  rec_rate = results_list[3]\n",
        "  return rec_rate\n",
        "\n",
        "def get_results_data_all(m):\n",
        "  '''\n",
        "  Returns the metric to be used as weight: Default set as Recognition rate. \n",
        "  '''\n",
        "  with open(f'results/results_all_{m}.txt') as f:\n",
        "      lines = f.readlines()\n",
        "      results_list=[]\n",
        "      for line in lines:\n",
        "        line = line.strip('\\n')\n",
        "        results_list.append(line)\n",
        "\n",
        "  rec_rate = results_list[3]\n",
        "  return rec_rate\n",
        "\n",
        "def weighted_class(ben, mal, rec_rate ): \n",
        "  '''\n",
        "  1. Creates weighted votes by multiplyng probalities with weights (recognition rate)\n",
        "  2. Returns weighted votes. These weighted nodes will be summed for each model and then the class will be assigned by taking the maximum. \n",
        "  '''\n",
        "  weighted_vote_ben = []\n",
        "  for i in range(len(ben[0])):\n",
        "    for k in ben[0][i]:\n",
        "      k = [x * float(rec_rate) for x in k]\n",
        "    weighted_vote_ben.append(k)\n",
        "  \n",
        "  weighted_vote_mal = []\n",
        "  for i in range(len(mal[0])):\n",
        "    for k in mal[0][i]:\n",
        "      k = [x * float(rec_rate) for x in k]\n",
        "    weighted_vote_mal.append(k)\n",
        "  \n",
        "  weighted_vote = weighted_vote_ben + weighted_vote_mal\n",
        "  benign_list = [0] * len(weighted_vote_ben)\n",
        "  mal_list = [1] * len(weighted_vote_mal)\n",
        "  true_labels = benign_list + mal_list\n",
        "\n",
        "  return weighted_vote, true_labels\n",
        "\n",
        "def get_weighted_vote(m):\n",
        "  '''\n",
        "  Returns weighted vote based on magnitude and model. \n",
        "  '''\n",
        "  ben, mal , pat_list = read_files(mag, m)\n",
        "  rec_rate = get_results_data_all(m)\n",
        "  weighted_vote, true_labels = weighted_class(ben, mal, rec_rate) #obtains the weighted votes (weight * probablity)\n",
        "  return weighted_vote, true_labels, pat_list\n",
        "\n",
        "def get_weighted_vote_data_all(m):\n",
        "  '''\n",
        "  Returns weighted vote based on magnitude and model. \n",
        "  '''\n",
        "  ben, mal , pat_list = read_files_data_all(m)\n",
        "  rec_rate = get_results_data_all(m)\n",
        "  weighted_vote, true_labels = weighted_class(ben, mal, rec_rate) #obtains the weighted votes (weight * probablity)\n",
        "  return weighted_vote, true_labels, pat_list\n",
        "\n",
        "## Create dataframe and calculate recognition rate for each binary model.\n",
        "import pandas as pd\n",
        "\n",
        "def patient_score(pat_list, test_ytrue, test_ypred):\n",
        "  df = pd.DataFrame()\n",
        "  df['patient_id'] = pat_list\n",
        "  df['y_test'] = test_ytrue\n",
        "  df['y_pred'] = test_ypred\n",
        "  df['comparison'] = np.where(df['y_test'] == df['y_pred'], 1, 0)\n",
        "\n",
        "  num_img_p=[]\n",
        "  true_counts_p=[]\n",
        "  for d in df.groupby('patient_id'): # Groupby the patients based on their Id's\n",
        "    true_counts=d[1].comparison.sum() # The total correctly classfied images. The sum of comparison column. \n",
        "    true_counts_p.append(true_counts) # Creating Nrec value. \n",
        "    values=d[1].patient_id.value_counts(dropna=False) # Count number of apperances of patient Id per patient = # number of images obtained per patient.\n",
        "    num_img_p.append(values[0]) # Creating Np value.\n",
        "\n",
        "    p_score_arr=[]\n",
        "    for i in range(len(num_img_p)): # Both arrays are in the same lenght \n",
        "      p_score=true_counts_p[i]/num_img_p[i] # For each index, calculate p score.\n",
        "      p_score_arr.append(p_score) \n",
        "\n",
        "  return p_score_arr\n",
        "\n",
        "def recognition_rate(p_score_arr):\n",
        "  '''\n",
        "  p_score_arr: p scores. - Array.\n",
        "  It returns recognition rate.\n",
        "  '''\n",
        "  sum_p_score=np.array(p_score_arr).sum() # Sum of p score.\n",
        "  rec_rate=sum_p_score/len(p_score_arr) # Calculation of the recognition rate. \n",
        "  return rec_rate"
      ],
      "metadata": {
        "id": "UlA9c0hX8iOg"
      },
      "execution_count": null,
      "outputs": []
    },
    {
      "cell_type": "code",
      "execution_count": null,
      "metadata": {
        "id": "K3oNfrbWJed9"
      },
      "outputs": [],
      "source": [
        "'''\n",
        "Magnification Dependent Model:\n",
        "# 1-Get weighted vote lists for all models\n",
        "mag = 40\n",
        "\n",
        "# note: for methods true labels and patient lists are the same. \n",
        "weighted_vote_dense, true_labels, patient_list = get_weighted_vote(mag, \"dense\")\n",
        "weighted_vote_resnet, true_labels, patient_list = get_weighted_vote(mag, \"resnet\")\n",
        "weighted_vote_vgg, true_labels, patient_list = get_weighted_vote(mag, \"vgg\")\n",
        "\n",
        "# 2-Sum Weighted votes\n",
        "\n",
        "preds2 = [weighted_vote_dense, weighted_vote_resnet, weighted_vote_vgg]\n",
        "preds=np.array(preds2)\n",
        "summed = np.sum(preds, axis=0)\n",
        "\n",
        "# 3-Take the maximum as a class label (argmax)\n",
        "\n",
        "ensemble = []\n",
        "for i in range(len(summed)):\n",
        "  ensemble.append(int(np.argmax(summed[i])))'''"
      ]
    },
    {
      "cell_type": "code",
      "source": [
        "# For Magnification Independent Model\n",
        "# 1-Get weighted vote lists for all models\n",
        "# note: for methods true labels and patient lists are the same. \n",
        "weighted_vote_dense, true_labels, patient_list = get_weighted_vote_data_all(\"dense\")\n",
        "weighted_vote_resnet, true_labels, patient_list = get_weighted_vote_data_all(\"resnet\")\n",
        "weighted_vote_vgg, true_labels, patient_list = get_weighted_vote_data_all(\"vgg\")\n",
        "\n",
        "# 2-Sum Weighted votes\n",
        "\n",
        "preds2 = [weighted_vote_dense, weighted_vote_resnet, weighted_vote_vgg]\n",
        "preds=np.array(preds2)\n",
        "summed = np.sum(preds, axis=0)\n",
        "\n",
        "# 3-Take the maximum as a class label (argmax)\n",
        "\n",
        "ensemble = []\n",
        "for i in range(len(summed)):\n",
        "  ensemble.append(int(np.argmax(summed[i])))"
      ],
      "metadata": {
        "id": "q4-gzQE5OJ1a"
      },
      "execution_count": null,
      "outputs": []
    },
    {
      "cell_type": "code",
      "source": [
        "# Evaluation of Ensemble Model\n",
        "from sklearn.metrics import accuracy_score\n",
        "from sklearn import metrics\n",
        "from sklearn.metrics import confusion_matrix\n",
        "\n",
        "acc = accuracy_score(true_labels, ensemble)\n",
        "print(\"Test accuracy:\", acc)\n",
        "cm = confusion_matrix(true_labels, ensemble)\n",
        "precision = sklearn.metrics.precision_score(true_labels, ensemble)\n",
        "print(\"Test precision:\", precision)\n",
        "f1 = sklearn.metrics.f1_score(true_labels, ensemble)\n",
        "print(\"Test f1 score:\", f1)\n",
        "rec = recognition_rate(patient_score(patient_list, true_labels, ensemble))\n",
        "print(\"Recognition Rate:\", rec)\n",
        "roc_auc = sklearn.metrics.roc_auc_score(true_labels, ensemble)\n",
        "print(\"Roc/Auc Score:\", roc_auc)\n",
        "list_metrics = [acc, precision, f1, rec, roc_auc ]"
      ],
      "metadata": {
        "colab": {
          "base_uri": "https://localhost:8080/"
        },
        "id": "QdggfJwneaGY",
        "outputId": "f683b4bb-ff56-4e1b-e673-7741c1a5b9f3"
      },
      "execution_count": null,
      "outputs": [
        {
          "output_type": "stream",
          "name": "stdout",
          "text": [
            "Test accuracy: 0.8650137741046832\n",
            "Test precision: 0.8664717348927875\n",
            "Test f1 score: 0.900709219858156\n",
            "Recognition Rate: 0.8786281500356188\n",
            "Roc/Auc Score: 0.832969158127386\n"
          ]
        }
      ]
    },
    {
      "cell_type": "code",
      "source": [
        "'''with open(f'results/ensemble_results_{mag}.txt', 'w') as the_file:\n",
        "  for i in list_metrics:\n",
        "    the_file.write(str(i)+ '\\n')'''\n",
        "\n",
        "with open(f'results/ensemble_results_all.txt', 'w') as the_file:\n",
        "  for i in list_metrics:\n",
        "    the_file.write(str(i)+ '\\n')"
      ],
      "metadata": {
        "id": "GmlnEBQNhIZm"
      },
      "execution_count": null,
      "outputs": []
    },
    {
      "cell_type": "markdown",
      "metadata": {
        "id": "RGjp4XH604z5"
      },
      "source": [
        "## Machine Learning Data - Binary Classifier\n",
        "\n",
        "The prediction labels from ensemble model was obtained for the all magnifications on the machine learning test data. These predictions were used in the multiclassification part."
      ]
    },
    {
      "cell_type": "code",
      "source": [
        "# Functions\n",
        "def get_results(mag, m):\n",
        "  '''\n",
        "  Returns the metric to be used as weight: Default set as Recognition rate. \n",
        "  '''\n",
        "  with open( f'results/ML_results_{mag}_{m}.txt') as f:\n",
        "      lines = f.readlines()\n",
        "      results_list=[]\n",
        "      for line in lines:\n",
        "        line = line.strip('\\n')\n",
        "        results_list.append(line)\n",
        "\n",
        "  rec_rate = results_list[3]\n",
        "  return rec_rate\n",
        "\n",
        "def weighted_class(predictions, rec_rate ): \n",
        "  '''\n",
        "  1. Creates weighted votes by multiplyng probalities with Weights (recognition rate)\n",
        "  2. Returns weighted votes. These weighted nodes will be summed for each model and then the class will be assigned by taking the maximum. \n",
        "  '''\n",
        "  weighted_vote = []\n",
        "  for i in range(len(predictions[0])):\n",
        "    for k in predictions[0][i]:\n",
        "      k = [x * float(rec_rate) for x in k]\n",
        "    weighted_vote.append(k)\n",
        "\n",
        "  return weighted_vote\n",
        "\n",
        "def get_weighted_vote(mag, m):\n",
        "  '''\n",
        "  Returns weighted vote based on magnitude and model. \n",
        "  '''\n",
        "  predictions, patient_list , labels = read_files(mag, m)\n",
        "  rec_rate = get_results(mag, m)\n",
        "  weighted_vote = weighted_class(predictions, rec_rate) #obtains the weighted votes (weight * probablity)\n",
        "  return weighted_vote, labels, patient_list\n",
        "\n",
        "\n",
        "def patient_score(pat_list, test_ytrue, test_ypred):\n",
        "  df = pd.DataFrame()\n",
        "  df['patient_id'] = pat_list\n",
        "  df['y_test'] = test_ytrue\n",
        "  df['y_pred'] = test_ypred\n",
        "  df['comparison'] = np.where(df['y_test'] == df['y_pred'], 1, 0)\n",
        "\n",
        "  num_img_p=[]\n",
        "  true_counts_p=[]\n",
        "  for d in df.groupby('patient_id'): # Groupby the patients based on their Id's\n",
        "    true_counts=d[1].comparison.sum() # The total correctly classfied images. The sum of comparison column. \n",
        "    true_counts_p.append(true_counts) # Creating Nrec value. \n",
        "    values=d[1].patient_id.value_counts(dropna=False) # Count number of apperances of patient Id per patient = # number of images obtained per patient.\n",
        "    num_img_p.append(values[0]) # Creating Np value.\n",
        "\n",
        "    p_score_arr=[]\n",
        "    for i in range(len(num_img_p)): # Both arrays are in the same lenght \n",
        "      p_score=true_counts_p[i]/num_img_p[i] # For each index, calculate p score.\n",
        "      p_score_arr.append(p_score) \n",
        "\n",
        "  return p_score_arr\n",
        "\n",
        "\n",
        "def recognition_rate(p_score_arr):\n",
        "  '''\n",
        "  p_score_arr: p scores. - Array.\n",
        "  It returns recognition rate.\n",
        "  '''\n",
        "  sum_p_score=np.array(p_score_arr).sum() # Sum of p score.\n",
        "  rec_rate=sum_p_score/len(p_score_arr) # Calculation of the recognition rate. \n",
        "  return rec_rate\n",
        "\n",
        "transform_image = torchvision.transforms.Compose([\n",
        "        torchvision.transforms.ToTensor(),\n",
        "        torchvision.transforms.Normalize([0.485, 0.456, 0.406], [0.229, 0.224, 0.225])\n",
        "])\n",
        "\n",
        "def predictions_test_dl(paths, model):\n",
        "  # contains prediction for the val set in the deep learning files. \n",
        "  prediction_list=[]\n",
        "  img_pred=[]\n",
        "  patient_id=[]\n",
        "  pat_all=[]\n",
        "  l = []\n",
        "  labels=[]\n",
        "  for path in tqdm(paths):\n",
        "    id = path.rsplit('/', 1)[1].split(\"-\")[2]\n",
        "    patient_id.append(id)\n",
        "\n",
        "    if path.find('_B_')!=-1:\n",
        "      l.append(0)\n",
        "\n",
        "    else:\n",
        "      l.append(1)\n",
        "\n",
        "    img = Image.open(path)\n",
        "    t_img = transform_image(img)\n",
        "    with torch.no_grad():\n",
        "      t_img = t_img.unsqueeze(0)\n",
        "      prediction = (model(t_img)).tolist()\n",
        "      img_pred.append(prediction)\n",
        "  prediction_list.append(img_pred)\n",
        "  pat_all.append(patient_id)\n",
        "  labels.append(l)\n",
        "  return prediction_list, pat_all, labels\n",
        "\n",
        "def save_files(data, model, mag, m ):\n",
        "  prediction_list, patient_list, labels  = predictions_test_dl(data, model)\n",
        "  ## Save the Model predictions into pickle files for reusability.\n",
        "  with open(f'saved_predictions/ML_{mag}x_{m}.pickle', 'wb') as handle:\n",
        "      pickle.dump(prediction_list, handle)\n",
        "  with open(f'saved_predictions/ML_patients_{mag}x_{m}.pickle', 'wb') as handle:\n",
        "      pickle.dump(patient_list, handle)\n",
        "  with open(f'saved_predictions/ML_labels_{mag}x_{m}.pickle', 'wb') as handle:\n",
        "      pickle.dump(labels, handle)\n",
        "\n",
        "# Read presaved pickle files to save time. \n",
        "def read_files(mag, m ):\n",
        "  predictions = pickle.load(open(f'saved_predictions/ML_{mag}x_{m}.pickle','rb'))\n",
        "  patient_list = pickle.load(open(f'saved_predictions/ML_patients_{mag}x_{m}.pickle','rb'))\n",
        "  labels = pickle.load(open(f'saved_predictions/ML_labels_{mag}x_{m}.pickle','rb'))\n",
        "  return predictions, patient_list[0] , labels[0]\n",
        "\n",
        "def convert_class(data): # converts probablities to classes using argmax. \n",
        "  l = []\n",
        "  for i in range(len(data[0])):\n",
        "    l.append(int(np.argmax(data[0][i], axis=1)))\n",
        "\n",
        "  return l"
      ],
      "metadata": {
        "id": "Og06wvNcd1h7"
      },
      "execution_count": null,
      "outputs": []
    },
    {
      "cell_type": "code",
      "execution_count": null,
      "metadata": {
        "id": "cmKLbU-v0_CK"
      },
      "outputs": [],
      "source": [
        "# import model \n",
        "model_dense_40 = torch.load(\"saved_model_pytorch/model_dense_40x_scomplete.pt\", map_location='cpu')\n",
        "model_dense_100 = torch.load(\"saved_model_pytorch/model_dense_100x_scomplete.pt\", map_location='cpu')\n",
        "model_dense_200 = torch.load(\"saved_model_pytorch/model_dense_200x_scomplete.pt\", map_location='cpu')\n",
        "model_dense_400 = torch.load(\"saved_model_pytorch/model_dense_400x_scomplete.pt\", map_location='cpu')\n",
        "\n",
        "model_resnet_40 = torch.load(\"saved_model_pytorch/model_resnet_40x_scomplete.pt\", map_location='cpu')\n",
        "model_resnet_100 = torch.load(\"saved_model_pytorch/model_resnet_100x_scomplete.pt\", map_location='cpu')\n",
        "model_resnet_200 = torch.load(\"saved_model_pytorch/model_resnet_200x_scomplete.pt\", map_location='cpu')\n",
        "model_resnet_400 = torch.load(\"saved_model_pytorch/model_resnet_400x_scomplete.pt\", map_location='cpu')\n",
        "\n",
        "model_vgg_40 = torch.load(\"saved_model_pytorch/model_vgg_40x_scomplete.pt\", map_location='cpu')\n",
        "model_vgg_100 = torch.load(\"saved_model_pytorch/model_vgg_100x_scomplete.pt\", map_location='cpu')\n",
        "model_vgg_200 = torch.load(\"saved_model_pytorch/model_vgg_200x_scomplete.pt\", map_location='cpu')\n",
        "model_vgg_400 = torch.load(\"saved_model_pytorch/model_vgg_400x_scomplete.pt\", map_location='cpu')"
      ]
    },
    {
      "cell_type": "code",
      "execution_count": null,
      "metadata": {
        "id": "46BOCaMF1Dsr"
      },
      "outputs": [],
      "source": [
        "paths_ml = pickle.load(open('/content/drive/MyDrive/Ars_machinae_autodiscentis/Inceptum/paths.p','rb'))"
      ]
    },
    {
      "cell_type": "code",
      "source": [
        "# Paths\n",
        "test_paths_40 = paths_ml[0,1,0]\n",
        "test_paths_100 = paths_ml[0,1,1]\n",
        "test_paths_200 = paths_ml[0,1,2]\n",
        "test_paths_400 = paths_ml[0,1,3]"
      ],
      "metadata": {
        "id": "BbztrkuHVaCJ"
      },
      "execution_count": null,
      "outputs": []
    },
    {
      "cell_type": "code",
      "source": [
        "mag = \"400\"\n",
        "m = 'vgg'\n",
        "# \n",
        "save_files(test_paths_400, model_resnet_400, mag, m )"
      ],
      "metadata": {
        "colab": {
          "base_uri": "https://localhost:8080/"
        },
        "id": "q06A_nIdVaGQ",
        "outputId": "82335e3e-3e91-4b4d-9748-eebe26b146d6"
      },
      "execution_count": null,
      "outputs": [
        {
          "output_type": "stream",
          "name": "stderr",
          "text": [
            "100%|██████████| 655/655 [06:19<00:00,  1.73it/s]\n"
          ]
        }
      ]
    },
    {
      "cell_type": "code",
      "source": [
        "# 1-Get weighted vote lists for all models\n",
        "mag = 400\n",
        "\n",
        "# note: for methods true labels and patient lists are the same. \n",
        "weighted_vote_dense, true_labels, patient_list = get_weighted_vote(mag, \"dense\")\n",
        "weighted_vote_resnet, true_labels, patient_list = get_weighted_vote(mag, \"resnet\")\n",
        "weighted_vote_vgg, true_labels, patient_list = get_weighted_vote(mag, \"vgg\")\n",
        "\n",
        "# 2-Sum Weighted votes\n",
        "\n",
        "preds2 = [weighted_vote_dense, weighted_vote_resnet, weighted_vote_vgg]\n",
        "preds=np.array(preds2)\n",
        "summed = np.sum(preds, axis=0)\n",
        "\n",
        "# 3-Take the maximum as a class label (argmax)\n",
        "\n",
        "ensemble = []\n",
        "for i in range(len(summed)):\n",
        "  ensemble.append(int(np.argmax(summed[i])))\n"
      ],
      "metadata": {
        "id": "7mJ5bL_VvGdp"
      },
      "execution_count": null,
      "outputs": []
    },
    {
      "cell_type": "code",
      "source": [
        "# metrics\n",
        "from sklearn.metrics import accuracy_score\n",
        "from sklearn import metrics\n",
        "from sklearn.metrics import confusion_matrix\n",
        "\n",
        "acc = accuracy_score(true_labels, ensemble)\n",
        "print(\"Test accuracy:\", acc)\n",
        "cm = confusion_matrix(true_labels, ensemble)\n",
        "precision = sklearn.metrics.precision_score(true_labels, ensemble)\n",
        "print(\"Test precision:\", precision)\n",
        "f1 = sklearn.metrics.f1_score(true_labels, ensemble)\n",
        "print(\"Test f1 score:\", f1)\n",
        "rec = recognition_rate(patient_score(patient_list, true_labels, ensemble))\n",
        "print(\"Recognition Rate:\", rec)\n",
        "roc_auc = sklearn.metrics.roc_auc_score(true_labels, ensemble)\n",
        "print(\"Roc/Auc Score:\", roc_auc)\n",
        "list_metrics = [acc, precision, f1, rec, roc_auc ]"
      ],
      "metadata": {
        "colab": {
          "base_uri": "https://localhost:8080/"
        },
        "id": "aFlWPuzdd1kE",
        "outputId": "3cf13a06-f255-418f-d17e-faa90bcdd489"
      },
      "execution_count": null,
      "outputs": [
        {
          "output_type": "stream",
          "name": "stdout",
          "text": [
            "Test accuracy: 0.8803763440860215\n",
            "Test precision: 0.8968253968253969\n",
            "Test f1 score: 0.9103726082578046\n",
            "Recognition Rate: 0.8761642667677151\n",
            "Roc/Auc Score: 0.8602069048478288\n"
          ]
        }
      ]
    },
    {
      "cell_type": "code",
      "source": [
        "## save the binary model results to be used in the weighting. \n",
        "'''\n",
        "with open(base_dir + f'results/ML_results_{mag}_{m}.txt', 'w') as the_file:\n",
        "  for i in list_metrics:\n",
        "    the_file.write(str(i)+ '\\n')\n",
        "\n",
        "'''"
      ],
      "metadata": {
        "id": "cAlJFc00x9XW"
      },
      "execution_count": null,
      "outputs": []
    },
    {
      "cell_type": "code",
      "source": [
        "## save the binary model results to be used in the weighting.\n",
        "\n",
        "'''\n",
        "with open(base_dir + f'results/ML_ensemble_results_{mag}.txt', 'w') as the_file:\n",
        "  for i in list_metrics:\n",
        "    the_file.write(str(i)+ '\\n')\n",
        "\n",
        "'''"
      ],
      "metadata": {
        "id": "ADT2wwOryca4"
      },
      "execution_count": null,
      "outputs": []
    },
    {
      "cell_type": "code",
      "source": [
        "# Save the predictions that are coming from ensemble model to ML directory. \n",
        "'''\n",
        "with open(f'/content/drive/MyDrive/Ars_machinae_autodiscentis/Inceptum/fold1/test/ensemble_binary_f1_test_{mag}x_fv.p', 'wb') as handle:\n",
        "      pickle.dump(ensemble, handle)\n",
        "'''"
      ],
      "metadata": {
        "id": "fcsNxmnHyck0"
      },
      "execution_count": null,
      "outputs": []
    }
  ]
}