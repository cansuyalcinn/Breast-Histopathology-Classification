{
  "cells": [
    {
      "cell_type": "markdown",
      "source": [
        "Preliminars are pieces of code to obtain information about the datset, get paths of the images and their correpondant endpoint and patient ID arrays.\n",
        "\n",
        "- If they have already been run, it is not necessary to rerun. If rerun, there is no problem with overwriting."
      ],
      "metadata": {
        "id": "ugK4P59_pacK"
      }
    },
    {
      "cell_type": "markdown",
      "metadata": {
        "id": "ByYp_yTRFqf3"
      },
      "source": [
        "# Libraries"
      ]
    },
    {
      "cell_type": "code",
      "execution_count": null,
      "metadata": {
        "colab": {
          "base_uri": "https://localhost:8080/"
        },
        "id": "nQcbuXl5xf2I",
        "outputId": "984a6aad-1d91-4e3e-ab6c-c518b53e24ed"
      },
      "outputs": [
        {
          "output_type": "stream",
          "name": "stdout",
          "text": [
            "Mounted at /content/drive\n"
          ]
        }
      ],
      "source": [
        "from google.colab import drive\n",
        "drive.mount('/content/drive')"
      ]
    },
    {
      "cell_type": "code",
      "execution_count": null,
      "metadata": {
        "id": "orseUwH-wTi2"
      },
      "outputs": [],
      "source": [
        "import os\n",
        "import sys\n",
        "import skimage\n",
        "import matplotlib.pyplot as plt\n",
        "import cv2 as cv\n",
        "import numpy as np\n",
        "import gc\n",
        "from tqdm import tqdm\n",
        "import pickle\n",
        "import copy\n",
        "\n",
        "#Local binary pattern\n",
        "from skimage.feature import local_binary_pattern\n",
        "\n",
        "#Paths\n",
        "import glob\n",
        "\n",
        "#Model creation\n",
        "import pandas as pd\n",
        "from sklearn.neighbors import KNeighborsClassifier\n",
        "from sklearn.preprocessing import StandardScaler\n",
        "from sklearn.pipeline import Pipeline"
      ]
    },
    {
      "cell_type": "markdown",
      "metadata": {
        "id": "eahhaN6D5kcw"
      },
      "source": [
        "# Functions"
      ]
    },
    {
      "cell_type": "code",
      "execution_count": null,
      "metadata": {
        "id": "fJl6hhTzG_VZ"
      },
      "outputs": [],
      "source": [
        "#Global variables\n",
        "mag_dict = {0:'40',1:'100',2:'200',3:'400'}\n",
        "tt_dict = {0:'train',1:'test'}"
      ]
    },
    {
      "cell_type": "markdown",
      "metadata": {
        "id": "nfKV-xbrHa6M"
      },
      "source": [
        "## For folder information"
      ]
    },
    {
      "cell_type": "code",
      "execution_count": null,
      "metadata": {
        "id": "D780Noli5m6Z"
      },
      "outputs": [],
      "source": [
        "def num_files(fold, magnification):\n",
        "  #Calculate the number of images in the training and the test set.\n",
        "  #Ratio is the porcentage of data that is for training\n",
        "  os.chdir(f'/content/drive/MyDrive/Ars_machinae_autodiscentis/Inceptum/fold{fold}/train/{magnification}X');\n",
        "  len_train = len([name for name in os.listdir('.') if os.path.isfile(name)]);\n",
        "  os.chdir(f'/content/drive/MyDrive/Ars_machinae_autodiscentis/Inceptum/fold{fold}/test/{magnification}X');\n",
        "  len_test = len([name for name in os.listdir('.') if os.path.isfile(name)]);\n",
        "\n",
        "  ratio = len_train/(len_train+len_test);\n",
        "\n",
        "  return [len_train, len_test, ratio]\n",
        "\n",
        "def printFoldsInfo():\n",
        "  for i in mag_dict:\n",
        "    for j in range(5):\n",
        "      print(f'For magnification {mag_dict[i]} in folder {j} we have the distribution:')\n",
        "      print(f'Training size: {num_files(j,mag_dict[i])[0]}, test size: {num_files(j,mag_dict[i])[1]}, For train: {round(num_files(j,mag_dict[i])[2]*100)}%\\n')"
      ]
    },
    {
      "cell_type": "code",
      "source": [
        "def train_test_from_pickle(category, fold, mag):\n",
        "  \"\"\"\n",
        "  Loads feature matrices, enpoints or patient's ID for each folder and magnification.\n",
        "  It returns the train and test arrays of the selected category\n",
        "  \n",
        "  :param category: Category of the data (feature matrices (X), Enpoints (y) or patient's ID)\n",
        "  :param f: Fold\n",
        "  :param mag: Magnification\n",
        "  :return: two np.arrays, train and test\n",
        "  \"\"\"\n",
        "  path_train = f'/content/drive/MyDrive/Ars_machinae_autodiscentis/Inceptum/fold{fold+1}/train/{category}_f{fold+1}_train_{mag_dict[mag]}x_fv.p'\n",
        "  path_test = f'/content/drive/MyDrive/Ars_machinae_autodiscentis/Inceptum/fold{fold+1}/test/{category}_f{fold+1}_test_{mag_dict[mag]}x_fv.p'\n",
        "  with open(path_train,'rb') as handle:\n",
        "    train_array = pickle.load(handle)\n",
        "  with open(path_test, 'rb') as handle:\n",
        "    test_array = pickle.load(handle)\n",
        "  \n",
        "  return train_array, test_array"
      ],
      "metadata": {
        "id": "A-PyDlAyzsYU"
      },
      "execution_count": null,
      "outputs": []
    },
    {
      "cell_type": "markdown",
      "metadata": {
        "id": "pjlpAEy8HjPV"
      },
      "source": [
        "## For paths"
      ]
    },
    {
      "cell_type": "code",
      "execution_count": null,
      "metadata": {
        "id": "f6q9eyFYzP9P"
      },
      "outputs": [],
      "source": [
        "def give_paths(folder):\n",
        "  #Returns the image paths, for train and test, of a given folder for all magnifications\n",
        "  #Input: folder (integer [1-5])\n",
        "  paths_train = []; #The two list that will be returned\n",
        "  paths_test = [];\n",
        "\n",
        "  magnifications=['40','100','200','400'] #Magnification list\n",
        "  for mag in magnifications:\n",
        "    path_train=f'/content/drive/MyDrive/Ars_machinae_autodiscentis/Inceptum/fold{folder}/train/{mag}X'\n",
        "    path_test=f'/content/drive/MyDrive/Ars_machinae_autodiscentis/Inceptum/fold{folder}/test/{mag}X'\n",
        "\n",
        "    train_f1 = glob.glob(path_train+ '/*.png')\n",
        "    test_f1=glob.glob(path_test+ '/*.png')\n",
        "\n",
        "    paths_train.append(train_f1);\n",
        "    paths_test.append(test_f1);\n",
        "\n",
        "  return paths_train, paths_test\n",
        "  #paths_train has lenght 4. 0:40x, 1:100x, 2:200x, 3:400x\n",
        "\n",
        "def all_paths():\n",
        "  #This function returns a list with all paths.\n",
        "  #You can access each path with the following indexing:\n",
        "  #Indexing: paths[folder][train-test][magnification]\n",
        "  paths=[];\n",
        "  for i in range(1,6):\n",
        "    paths.append(give_paths(i))\n",
        "  return paths"
      ]
    },
    {
      "cell_type": "markdown",
      "metadata": {
        "id": "cFT1rEQZy-S7"
      },
      "source": [
        "# 1. Information and paths"
      ]
    },
    {
      "cell_type": "markdown",
      "metadata": {
        "id": "gJD1pyAxe614"
      },
      "source": [
        "## Information about cross-validation folds\n",
        "\n",
        "In this part, we obtain information of the 5 folders data ditribution from the nested cross-validation spliting of data."
      ]
    },
    {
      "cell_type": "code",
      "execution_count": null,
      "metadata": {
        "id": "mn14LH4DGoh-"
      },
      "outputs": [],
      "source": [
        "#Save in a txt file the information of the train-test distribution for our 5-fold cross-validation folders.\n",
        "os.chdir('/content/drive/MyDrive/Ars_machinae_autodiscentis/Inceptum')\n",
        "orig_stdout = sys.stdout #Save original std\n",
        "f = open('Information.txt', 'w')\n",
        "sys.stdout = f\n",
        "\n",
        "printFoldsInfo()\n",
        "\n",
        "sys.stdout = orig_stdout #Reset original std\n",
        "f.close()"
      ]
    },
    {
      "cell_type": "markdown",
      "metadata": {
        "id": "9Ed7o3Alifxm"
      },
      "source": [
        "## Image paths\n",
        "\n",
        "Here the paths for the images contained on each folder are saved in a pickle folder."
      ]
    },
    {
      "cell_type": "markdown",
      "metadata": {
        "id": "5fDJ_cjWOkSB"
      },
      "source": [
        "The dictionary **paths** contains all images paths.\n",
        "You can access the individual paths following this indexing:\n",
        "\n",
        "\n",
        "*   paths[folder][train or test][magnification]\n",
        "\n",
        "\n",
        "\n",
        "1. folder number (0-4)\n",
        "2. 0:train, 1:test\n",
        "3. 0:40x, 1: 100x, 2:200x, 3:400x"
      ]
    },
    {
      "cell_type": "code",
      "execution_count": null,
      "metadata": {
        "id": "9uuiRnnLOshT"
      },
      "outputs": [],
      "source": [
        "#We obtain all images paths\n",
        "paths_lists = all_paths()\n",
        "\n",
        "paths_array = np.array(paths_lists,dtype=object) #Change to array"
      ]
    },
    {
      "cell_type": "markdown",
      "source": [
        "### Saving paths in file as array of lists"
      ],
      "metadata": {
        "id": "qPtQ153tJvM4"
      }
    },
    {
      "cell_type": "code",
      "source": [
        "#Checking that the array of lists is well defined\n",
        "print(paths_array.shape)\n",
        "##Saving\n",
        "os.chdir('/content/drive/MyDrive/Ars_machinae_autodiscentis/Inceptum')\n",
        "pickle.dump(paths_array,open(\"paths.p\",\"wb\"))"
      ],
      "metadata": {
        "colab": {
          "base_uri": "https://localhost:8080/"
        },
        "id": "nj3uUjJo4yhc",
        "outputId": "1956b3c7-d1e8-43e7-f47a-a552ecafbfb2"
      },
      "execution_count": null,
      "outputs": [
        {
          "output_type": "stream",
          "name": "stdout",
          "text": [
            "(5, 2, 4)\n"
          ]
        }
      ]
    },
    {
      "cell_type": "markdown",
      "source": [
        "# 2. Binary classification"
      ],
      "metadata": {
        "id": "f_1Y6DovBafh"
      }
    },
    {
      "cell_type": "markdown",
      "source": [
        "## Endpoint array (Binary classification)\n",
        "An endpoint array is created for each folder (40 in total)"
      ],
      "metadata": {
        "id": "6H_IdFz9Cb3W"
      }
    },
    {
      "cell_type": "code",
      "source": [
        "#Load paths\n",
        "with open('/content/drive/MyDrive/Ars_machinae_autodiscentis/Inceptum/paths.p', 'rb') as handle:\n",
        "    paths = pickle.load(handle)"
      ],
      "metadata": {
        "id": "i2p8tYO128KN"
      },
      "execution_count": null,
      "outputs": []
    },
    {
      "cell_type": "code",
      "source": [
        "#Which folder will be used\n",
        "for f in range(5):\n",
        "  for tt in range(2):\n",
        "    for mag in range(4):\n",
        "      paths_folder = paths[f,tt,mag] #Set folder to use\n",
        "      n = len(paths_folder)\n",
        "      endpoint_vector = np.zeros((n,1),np.uint8) #Define size of array where endpoint will be saved\n",
        "      for i in range(n):\n",
        "        img_path = paths_folder[i]\n",
        "        endpoint_vector[i] = img_path.find('_M_')!=-1\n",
        "\n",
        "      #Saving document\n",
        "      file_name = f'/content/drive/MyDrive/Ars_machinae_autodiscentis/Inceptum/fold{f+1}/{tt_dict[tt]}/endpoints_f{f+1}_{tt_dict[tt]}_{mag_dict[mag]}x_fv.p'\n",
        "      with open(file_name, 'wb') as handle:\n",
        "          pickle.dump(endpoint_vector, handle, protocol=pickle.HIGHEST_PROTOCOL)"
      ],
      "metadata": {
        "id": "VZhMJ__y39hG"
      },
      "execution_count": null,
      "outputs": []
    },
    {
      "cell_type": "code",
      "source": [
        "#Number of benign vs malignat\n",
        "for fold in range(5):\n",
        "  for mag in range(4):\n",
        "\n",
        "    y_train, y_test = train_test_from_pickle(category='endpoints', fold=fold, mag=mag)\n",
        "\n",
        "    print(f'For fold {fold+1} and magnification {mag_dict[mag]}')\n",
        "    malignant_train = y_train.sum()\n",
        "    benign_train = (y_train.shape[0] - malignant_train).astype(np.uint32)\n",
        "    \n",
        "    print(f'Train: (Benign: {benign_train}, Malignant: {malignant_train}) Benign %: {round(benign_train/y_train.shape[0]*100,2)}')\n",
        "\n",
        "    malignant_test = y_test.sum()\n",
        "    benign_test = (y_test.shape[0] - malignant_test).astype(np.uint32)\n",
        "    print(f'test: (Benign: {benign_test}, Malignant: {malignant_test}) Benign %: {round(benign_test/y_test.shape[0]*100,2)}\\n')"
      ],
      "metadata": {
        "colab": {
          "base_uri": "https://localhost:8080/"
        },
        "id": "rkfgIRI1zYkH",
        "outputId": "3a6289ad-98fb-4d77-d1c9-3c9e3de73cbd"
      },
      "execution_count": null,
      "outputs": [
        {
          "output_type": "stream",
          "name": "stdout",
          "text": [
            "For fold 1 and magnification 40\n",
            "Train: (Benign: 370, Malignant: 880) Benign %: 29.6\n",
            "test: (Benign: 255, Malignant: 490) Benign %: 34.23\n",
            "\n",
            "For fold 1 and magnification 100\n",
            "Train: (Benign: 383, Malignant: 938) Benign %: 28.99\n",
            "test: (Benign: 261, Malignant: 499) Benign %: 34.34\n",
            "\n",
            "For fold 1 and magnification 200\n",
            "Train: (Benign: 368, Malignant: 901) Benign %: 29.0\n",
            "test: (Benign: 255, Malignant: 489) Benign %: 34.27\n",
            "\n",
            "For fold 1 and magnification 400\n",
            "Train: (Benign: 351, Malignant: 814) Benign %: 30.13\n",
            "test: (Benign: 237, Malignant: 418) Benign %: 36.18\n",
            "\n",
            "For fold 2 and magnification 40\n",
            "Train: (Benign: 433, Malignant: 930) Benign %: 31.77\n",
            "test: (Benign: 192, Malignant: 440) Benign %: 30.38\n",
            "\n",
            "For fold 2 and magnification 100\n",
            "Train: (Benign: 449, Malignant: 1012) Benign %: 30.73\n",
            "test: (Benign: 195, Malignant: 425) Benign %: 31.45\n",
            "\n",
            "For fold 2 and magnification 200\n",
            "Train: (Benign: 455, Malignant: 961) Benign %: 32.13\n",
            "test: (Benign: 168, Malignant: 429) Benign %: 28.14\n",
            "\n",
            "For fold 2 and magnification 400\n",
            "Train: (Benign: 419, Malignant: 847) Benign %: 33.1\n",
            "test: (Benign: 169, Malignant: 385) Benign %: 30.51\n",
            "\n",
            "For fold 3 and magnification 40\n",
            "Train: (Benign: 423, Malignant: 915) Benign %: 31.61\n",
            "test: (Benign: 202, Malignant: 455) Benign %: 30.75\n",
            "\n",
            "For fold 3 and magnification 100\n",
            "Train: (Benign: 440, Malignant: 972) Benign %: 31.16\n",
            "test: (Benign: 204, Malignant: 465) Benign %: 30.49\n",
            "\n",
            "For fold 3 and magnification 200\n",
            "Train: (Benign: 430, Malignant: 924) Benign %: 31.76\n",
            "test: (Benign: 193, Malignant: 466) Benign %: 29.29\n",
            "\n",
            "For fold 3 and magnification 400\n",
            "Train: (Benign: 409, Malignant: 819) Benign %: 33.31\n",
            "test: (Benign: 179, Malignant: 413) Benign %: 30.24\n",
            "\n",
            "For fold 4 and magnification 40\n",
            "Train: (Benign: 384, Malignant: 911) Benign %: 29.65\n",
            "test: (Benign: 241, Malignant: 459) Benign %: 34.43\n",
            "\n",
            "For fold 4 and magnification 100\n",
            "Train: (Benign: 399, Malignant: 984) Benign %: 28.85\n",
            "test: (Benign: 245, Malignant: 453) Benign %: 35.1\n",
            "\n",
            "For fold 4 and magnification 200\n",
            "Train: (Benign: 398, Malignant: 936) Benign %: 29.84\n",
            "test: (Benign: 225, Malignant: 454) Benign %: 33.14\n",
            "\n",
            "For fold 4 and magnification 400\n",
            "Train: (Benign: 364, Malignant: 835) Benign %: 30.36\n",
            "test: (Benign: 224, Malignant: 397) Benign %: 36.07\n",
            "\n",
            "For fold 5 and magnification 40\n",
            "Train: (Benign: 355, Malignant: 865) Benign %: 29.1\n",
            "test: (Benign: 270, Malignant: 505) Benign %: 34.84\n",
            "\n",
            "For fold 5 and magnification 100\n",
            "Train: (Benign: 367, Malignant: 893) Benign %: 29.13\n",
            "test: (Benign: 277, Malignant: 544) Benign %: 33.74\n",
            "\n",
            "For fold 5 and magnification 200\n",
            "Train: (Benign: 350, Malignant: 893) Benign %: 28.16\n",
            "test: (Benign: 273, Malignant: 497) Benign %: 35.45\n",
            "\n",
            "For fold 5 and magnification 400\n",
            "Train: (Benign: 338, Malignant: 765) Benign %: 30.64\n",
            "test: (Benign: 250, Malignant: 467) Benign %: 34.87\n",
            "\n"
          ]
        }
      ]
    },
    {
      "cell_type": "markdown",
      "source": [
        "## Patient ID array"
      ],
      "metadata": {
        "id": "twQ4dWUTBywS"
      }
    },
    {
      "cell_type": "code",
      "source": [
        "#Load paths\n",
        "with open('/content/drive/MyDrive/Ars_machinae_autodiscentis/Inceptum/paths.p', 'rb') as handle:\n",
        "    paths = pickle.load(handle)"
      ],
      "metadata": {
        "id": "yXzTVKRcB5rt"
      },
      "execution_count": null,
      "outputs": []
    },
    {
      "cell_type": "code",
      "source": [
        "#Similar structure like in endpoint array above\n",
        "for f in range(5):\n",
        "  for tt in range(2):\n",
        "    for mag in range(4):\n",
        "      paths_folder = paths[f,tt,mag]\n",
        "      n = len(paths_folder)\n",
        "      ID_vector = np.empty((n,1), dtype='object') #Define size of array where ID will be saved. #Dtype object is not as fast as a normal np.array but it is convinient in this case either way.\n",
        "      for i in range(n):\n",
        "        img_path = paths_folder[i]\n",
        "        ID_vector[i] = img_path.rsplit('/', 1)[1].split('-', 3)[2]\n",
        "      #Saving document\n",
        "      file_name = f'/content/drive/MyDrive/Ars_machinae_autodiscentis/Inceptum/fold{f+1}/{tt_dict[tt]}/ID_f{f+1}_{tt_dict[tt]}_{mag_dict[mag]}x_fv.p'\n",
        "      with open(file_name, 'wb') as handle:\n",
        "          pickle.dump(ID_vector, handle, protocol=pickle.HIGHEST_PROTOCOL)"
      ],
      "metadata": {
        "id": "_4agnBmoE5hv"
      },
      "execution_count": null,
      "outputs": []
    },
    {
      "cell_type": "markdown",
      "source": [
        "#3. Multiclass Classification"
      ],
      "metadata": {
        "id": "a42vp_aWBhyH"
      }
    },
    {
      "cell_type": "markdown",
      "source": [
        "## Endpoint array (Multiclass classification)"
      ],
      "metadata": {
        "id": "S3OCAlVs7DMn"
      }
    },
    {
      "cell_type": "code",
      "source": [
        "# End points for multiclassses\n",
        "'''\n",
        "Benign\n",
        "B_A : adenosis (A)\n",
        "B_F : fibroadenoma (F)\n",
        "B_PT : phyllodes tumor (PT)\n",
        "B_TA : tubular adenone (TA)\n",
        "\n",
        "Malignant\n",
        "M_DC : ductal carcinoma (DC)\n",
        "M_LC : lobular carcinoma (LC)\n",
        "M_MC : mucinous carcinoma (MC)\n",
        "M_PC : papillary carcinoma (PC)\n",
        "'''\n",
        "import pickle\n",
        "paths = pickle.load(open('/content/drive/MyDrive/Ars_machinae_autodiscentis/Inceptum/paths.p','rb'))"
      ],
      "metadata": {
        "id": "Pbg-X12dFsbB"
      },
      "execution_count": null,
      "outputs": []
    },
    {
      "cell_type": "code",
      "source": [
        "def get_multi_class(paths):\n",
        "  '''\n",
        "  Returns the dataframe of encoded multi classes from 0 to 7. \n",
        "  input: paths => the list of the paths in a folder.\n",
        "  '''\n",
        "  classes = ['B_A', 'B_F', 'B_PT', 'B_TA', 'M_DC', 'M_LC', 'M_MC', 'M_PC']\n",
        "  classes_l = []\n",
        "  for path in paths:\n",
        "    c = path.rsplit('/', 1)[1].split('_', 1)[1].split('-', 1)[0] \n",
        "    for slide_class in classes:\n",
        "      if c == slide_class:\n",
        "        classes_l.append(c)\n",
        "  reps = {'B_A': 0, 'B_F': 1, 'B_TA': 2, 'B_PT': 3, 'M_DC': 4, 'M_LC': 5,'M_MC': 6, 'M_PC': 7}\n",
        "  cat = [reps.get(x,x) for x in classes_l]\n",
        "  df = pd.DataFrame(cat)\n",
        "  return df"
      ],
      "metadata": {
        "id": "-DQ6ZlReG5YV"
      },
      "execution_count": null,
      "outputs": []
    },
    {
      "cell_type": "code",
      "source": [
        "#Which folder will be used\n",
        "for f in range(5):\n",
        "  for tt in range(2):\n",
        "    for mag in range(4):\n",
        "      endpoint_vector = get_multi_class(paths[f,tt,mag]).to_numpy(dtype=np.uint8)\n",
        "\n",
        "      #Saving document\n",
        "      file_name = f'/content/drive/MyDrive/Ars_machinae_autodiscentis/Inceptum/fold{f+1}/{tt_dict[tt]}/endpoints_multi_f{f+1}_{tt_dict[tt]}_{mag_dict[mag]}x_fv.p'\n",
        "      with open(file_name, 'wb') as handle:\n",
        "          pickle.dump(endpoint_vector, handle, protocol=pickle.HIGHEST_PROTOCOL)"
      ],
      "metadata": {
        "id": "laCtiaHYO6qS"
      },
      "execution_count": null,
      "outputs": []
    }
  ],
  "metadata": {
    "colab": {
      "collapsed_sections": [
        "ByYp_yTRFqf3",
        "eahhaN6D5kcw",
        "nfKV-xbrHa6M",
        "pjlpAEy8HjPV",
        "cFT1rEQZy-S7",
        "gJD1pyAxe614",
        "9Ed7o3Alifxm",
        "f_1Y6DovBafh",
        "6H_IdFz9Cb3W",
        "twQ4dWUTBywS",
        "a42vp_aWBhyH",
        "S3OCAlVs7DMn"
      ],
      "name": "1.Preliminars",
      "provenance": []
    },
    "kernelspec": {
      "display_name": "Python 3",
      "name": "python3"
    },
    "language_info": {
      "name": "python"
    }
  },
  "nbformat": 4,
  "nbformat_minor": 0
}